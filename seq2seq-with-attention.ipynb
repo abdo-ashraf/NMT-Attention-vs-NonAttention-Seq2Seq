{
 "cells": [
  {
   "cell_type": "code",
   "execution_count": 1,
   "id": "ae3cfd31",
   "metadata": {
    "_cell_guid": "f3fb334d-43c6-4fae-93a0-4b6783397ad9",
    "_uuid": "da9ddfdf-832b-4d7d-bb6a-942f879f6447",
    "collapsed": false,
    "execution": {
     "iopub.execute_input": "2024-11-12T07:36:07.488557Z",
     "iopub.status.busy": "2024-11-12T07:36:07.488159Z",
     "iopub.status.idle": "2024-11-12T07:36:07.493253Z",
     "shell.execute_reply": "2024-11-12T07:36:07.492367Z"
    },
    "id": "gYpPYG55PDy0",
    "jupyter": {
     "outputs_hidden": false
    },
    "papermill": {
     "duration": 0.028521,
     "end_time": "2024-11-12T07:36:07.495182",
     "exception": false,
     "start_time": "2024-11-12T07:36:07.466661",
     "status": "completed"
    },
    "tags": []
   },
   "outputs": [],
   "source": [
    "## Same as no-attention notebook with difference at model define"
   ]
  },
  {
   "cell_type": "code",
   "execution_count": 2,
   "id": "e7a0d5d8",
   "metadata": {
    "_cell_guid": "53f3ea36-80e9-4eed-9b09-11fa0490ae70",
    "_uuid": "2075d24a-41ad-4336-b551-a0909866836c",
    "collapsed": false,
    "execution": {
     "iopub.execute_input": "2024-11-12T07:36:07.533460Z",
     "iopub.status.busy": "2024-11-12T07:36:07.532754Z",
     "iopub.status.idle": "2024-11-12T07:36:47.461370Z",
     "shell.execute_reply": "2024-11-12T07:36:47.459975Z"
    },
    "executionInfo": {
     "elapsed": 12078,
     "status": "ok",
     "timestamp": 1731233836806,
     "user": {
      "displayName": "Abdelrhman Ashraf",
      "userId": "11249532378747886614"
     },
     "user_tz": -120
    },
    "id": "sRPtnzMJ5DEN",
    "jupyter": {
     "outputs_hidden": false
    },
    "outputId": "7a2d1eaf-ddb8-4082-b260-dd52ed452c9b",
    "papermill": {
     "duration": 39.950282,
     "end_time": "2024-11-12T07:36:47.463963",
     "exception": false,
     "start_time": "2024-11-12T07:36:07.513681",
     "status": "completed"
    },
    "tags": []
   },
   "outputs": [],
   "source": [
    "## Turn around camel-kenlm wheel error\n",
    "!pip install -q future six docopt cachetools numpy scipy pandas scikit-learn torch transformers editdistance requests emoji pyrsistent muddler\n",
    "!pip install -q camel-tools --no-deps\n",
    "!pip install -q contractions  datasets\n",
    "\n",
    "!pip install -q kaggle"
   ]
  },
  {
   "cell_type": "code",
   "execution_count": 3,
   "id": "944edf3d",
   "metadata": {
    "_cell_guid": "8aa266b9-fd1e-4344-8d1a-5a7fab478b63",
    "_uuid": "426a4f4a-d536-4eb3-a9d7-15e0b265fb63",
    "collapsed": false,
    "execution": {
     "iopub.execute_input": "2024-11-12T07:36:47.502729Z",
     "iopub.status.busy": "2024-11-12T07:36:47.502331Z",
     "iopub.status.idle": "2024-11-12T07:37:00.156566Z",
     "shell.execute_reply": "2024-11-12T07:37:00.155783Z"
    },
    "executionInfo": {
     "elapsed": 264,
     "status": "ok",
     "timestamp": 1731240458903,
     "user": {
      "displayName": "Abdelrhman Ashraf",
      "userId": "11249532378747886614"
     },
     "user_tz": -120
    },
    "id": "oKlf2c2DFqoS",
    "jupyter": {
     "outputs_hidden": false
    },
    "papermill": {
     "duration": 12.676691,
     "end_time": "2024-11-12T07:37:00.159122",
     "exception": false,
     "start_time": "2024-11-12T07:36:47.482431",
     "status": "completed"
    },
    "tags": []
   },
   "outputs": [],
   "source": [
    "from tqdm import tqdm\n",
    "import time\n",
    "from camel_tools.tokenizers.word import simple_word_tokenize\n",
    "import numpy as np\n",
    "import pandas as pd\n",
    "import seaborn as sns\n",
    "import matplotlib.pyplot as plt\n",
    "from sklearn.model_selection import train_test_split\n",
    "from zipfile import ZipFile\n",
    "import torch\n",
    "from torch import nn\n",
    "from torch.nn import functional as F\n",
    "from torch.utils.data import DataLoader, Dataset\n",
    "import spacy\n",
    "from collections import Counter\n",
    "import random\n",
    "import unicodedata\n",
    "import pyarabic.araby as araby\n",
    "import contractions\n",
    "import nltk\n",
    "from datasets import load_dataset\n",
    "import re"
   ]
  },
  {
   "cell_type": "code",
   "execution_count": 4,
   "id": "d13214ce",
   "metadata": {
    "_cell_guid": "9b098a3a-f196-4d86-85e8-4918c3edbab4",
    "_uuid": "eec15a85-e283-4d85-97f5-cb6d80ab078a",
    "collapsed": false,
    "execution": {
     "iopub.execute_input": "2024-11-12T07:37:00.197543Z",
     "iopub.status.busy": "2024-11-12T07:37:00.196900Z",
     "iopub.status.idle": "2024-11-12T07:37:00.202279Z",
     "shell.execute_reply": "2024-11-12T07:37:00.201518Z"
    },
    "executionInfo": {
     "elapsed": 272,
     "status": "ok",
     "timestamp": 1731234205580,
     "user": {
      "displayName": "Abdelrhman Ashraf",
      "userId": "11249532378747886614"
     },
     "user_tz": -120
    },
    "id": "DlvMCmdIWudl",
    "jupyter": {
     "outputs_hidden": false
    },
    "papermill": {
     "duration": 0.026483,
     "end_time": "2024-11-12T07:37:00.204129",
     "exception": false,
     "start_time": "2024-11-12T07:37:00.177646",
     "status": "completed"
    },
    "tags": []
   },
   "outputs": [],
   "source": [
    "lr = 1e-3\n",
    "epochs = 15\n",
    "valid_test_size = 0.4\n",
    "# maxlen = 100 # length of one training sample by words\n",
    "embd_features = 200 # length of embedding vectors for each word (input_size) (=1000 in paper)\n",
    "batch_size = 128\n",
    "max_freq = 2 # to add all words to the vocabulary that seen more than one time\n",
    "lstm_hidden_size = 256 # The number of features in the hidden state (=1000 in paper)\n",
    "lstm_layers = 4 # Number of stacked recurrent layers for encoder\n",
    "dropout_p = 0.5"
   ]
  },
  {
   "cell_type": "code",
   "execution_count": 5,
   "id": "18c0af49",
   "metadata": {
    "_cell_guid": "a421e16e-78a1-45f1-a185-5ede26629408",
    "_uuid": "3eb4f197-592d-4d39-8a09-79cc7b939b10",
    "collapsed": false,
    "execution": {
     "iopub.execute_input": "2024-11-12T07:37:00.241162Z",
     "iopub.status.busy": "2024-11-12T07:37:00.240863Z",
     "iopub.status.idle": "2024-11-12T07:37:00.245284Z",
     "shell.execute_reply": "2024-11-12T07:37:00.244450Z"
    },
    "executionInfo": {
     "elapsed": 4,
     "status": "ok",
     "timestamp": 1731233855441,
     "user": {
      "displayName": "Abdelrhman Ashraf",
      "userId": "11249532378747886614"
     },
     "user_tz": -120
    },
    "id": "SPMCS8ajW1jK",
    "jupyter": {
     "outputs_hidden": false
    },
    "papermill": {
     "duration": 0.024873,
     "end_time": "2024-11-12T07:37:00.247083",
     "exception": false,
     "start_time": "2024-11-12T07:37:00.222210",
     "status": "completed"
    },
    "tags": []
   },
   "outputs": [],
   "source": [
    "seed = 123\n",
    "g = torch.Generator().manual_seed(seed)\n",
    "\n",
    "device = 'cuda' if torch.cuda.is_available() else 'cpu'\n",
    "\n",
    "isKaggle = True\n",
    "base_dir = '/kaggle/working' if isKaggle else '/content'"
   ]
  },
  {
   "cell_type": "markdown",
   "id": "3ad53b3d",
   "metadata": {
    "_cell_guid": "2823160c-9473-4388-b059-a8f97ecebc30",
    "_uuid": "fee9820e-a6f6-414c-b042-b320f067a2e8",
    "collapsed": false,
    "id": "jKW1NUp9XA9S",
    "jupyter": {
     "outputs_hidden": false
    },
    "papermill": {
     "duration": 0.017844,
     "end_time": "2024-11-12T07:37:00.282966",
     "exception": false,
     "start_time": "2024-11-12T07:37:00.265122",
     "status": "completed"
    },
    "tags": []
   },
   "source": [
    "## Data"
   ]
  },
  {
   "cell_type": "markdown",
   "id": "8aa1965a",
   "metadata": {
    "_cell_guid": "304718a6-ce41-4489-870f-cd7241f2ebdf",
    "_uuid": "2872f338-182c-484e-9be4-c3d7322a3e40",
    "collapsed": false,
    "id": "TFfKvsudXDMI",
    "jupyter": {
     "outputs_hidden": false
    },
    "papermill": {
     "duration": 0.017814,
     "end_time": "2024-11-12T07:37:00.318852",
     "exception": false,
     "start_time": "2024-11-12T07:37:00.301038",
     "status": "completed"
    },
    "tags": []
   },
   "source": [
    "### Downloading"
   ]
  },
  {
   "cell_type": "code",
   "execution_count": 6,
   "id": "52c30e8f",
   "metadata": {
    "execution": {
     "iopub.execute_input": "2024-11-12T07:37:00.356432Z",
     "iopub.status.busy": "2024-11-12T07:37:00.356089Z",
     "iopub.status.idle": "2024-11-12T07:37:05.512097Z",
     "shell.execute_reply": "2024-11-12T07:37:05.511301Z"
    },
    "papermill": {
     "duration": 5.177277,
     "end_time": "2024-11-12T07:37:05.513977",
     "exception": false,
     "start_time": "2024-11-12T07:37:00.336700",
     "status": "completed"
    },
    "tags": []
   },
   "outputs": [
    {
     "data": {
      "application/vnd.jupyter.widget-view+json": {
       "model_id": "9653f143da4041a5807112ea9468a9e6",
       "version_major": 2,
       "version_minor": 0
      },
      "text/plain": [
       "README.md:   0%|          | 0.00/65.4k [00:00<?, ?B/s]"
      ]
     },
     "metadata": {},
     "output_type": "display_data"
    },
    {
     "data": {
      "application/vnd.jupyter.widget-view+json": {
       "model_id": "ddeebd7ec18f402abd36f2505c70af0b",
       "version_major": 2,
       "version_minor": 0
      },
      "text/plain": [
       "test-00000-of-00001.parquet:   0%|          | 0.00/214k [00:00<?, ?B/s]"
      ]
     },
     "metadata": {},
     "output_type": "display_data"
    },
    {
     "data": {
      "application/vnd.jupyter.widget-view+json": {
       "model_id": "ee6b790a30ea4b9aab953fa3c52af2d5",
       "version_major": 2,
       "version_minor": 0
      },
      "text/plain": [
       "train-00000-of-00001.parquet:   0%|          | 0.00/99.3M [00:00<?, ?B/s]"
      ]
     },
     "metadata": {},
     "output_type": "display_data"
    },
    {
     "data": {
      "application/vnd.jupyter.widget-view+json": {
       "model_id": "8997c1cedb3c4e84bf25dfc7250eeb6f",
       "version_major": 2,
       "version_minor": 0
      },
      "text/plain": [
       "validation-00000-of-00001.parquet:   0%|          | 0.00/979k [00:00<?, ?B/s]"
      ]
     },
     "metadata": {},
     "output_type": "display_data"
    },
    {
     "data": {
      "application/vnd.jupyter.widget-view+json": {
       "model_id": "c525bd374abc4cad8d18f4401810cdbe",
       "version_major": 2,
       "version_minor": 0
      },
      "text/plain": [
       "Generating test split:   0%|          | 0/2000 [00:00<?, ? examples/s]"
      ]
     },
     "metadata": {},
     "output_type": "display_data"
    },
    {
     "data": {
      "application/vnd.jupyter.widget-view+json": {
       "model_id": "b8da6d1d62e545f8ba49fe7340be528a",
       "version_major": 2,
       "version_minor": 0
      },
      "text/plain": [
       "Generating train split:   0%|          | 0/1000000 [00:00<?, ? examples/s]"
      ]
     },
     "metadata": {},
     "output_type": "display_data"
    },
    {
     "data": {
      "application/vnd.jupyter.widget-view+json": {
       "model_id": "0bb8b83549e842a89155cbb0315780f0",
       "version_major": 2,
       "version_minor": 0
      },
      "text/plain": [
       "Generating validation split:   0%|          | 0/2000 [00:00<?, ? examples/s]"
      ]
     },
     "metadata": {},
     "output_type": "display_data"
    }
   ],
   "source": [
    "# # !wget -q https://www.manythings.org/anki/ara-eng.zip\n",
    "# !kaggle datasets download -q samirmoustafa/arabic-to-english-translation-sentences\n",
    "# !unzip '{base_dir}/arabic-to-english-translation-sentences.zip'\n",
    "\n",
    "# !wget -q -O ./tatoeba.tsv https://drive.google.com/uc?id=1aO0yDI4-rDxD5J0OYAgVlUUQuMuqtFSD\n",
    "\n",
    "# hf_dataset = load_dataset('Helsinki-NLP/tatoeba_mt','ara-eng', trust_remote_code=True)\n",
    "\n",
    "ds = load_dataset(\"Helsinki-NLP/opus-100\", \"ar-en\")"
   ]
  },
  {
   "cell_type": "code",
   "execution_count": 7,
   "id": "f75a4119",
   "metadata": {
    "_cell_guid": "69daee9e-22ad-4562-9984-d49410ff0afc",
    "_uuid": "05c81fe0-213d-4db9-a0c1-fe2cd66153e1",
    "collapsed": false,
    "execution": {
     "iopub.execute_input": "2024-11-12T07:37:05.555448Z",
     "iopub.status.busy": "2024-11-12T07:37:05.554693Z",
     "iopub.status.idle": "2024-11-12T07:37:15.708290Z",
     "shell.execute_reply": "2024-11-12T07:37:15.707254Z"
    },
    "executionInfo": {
     "elapsed": 416,
     "status": "ok",
     "timestamp": 1731233862003,
     "user": {
      "displayName": "Abdelrhman Ashraf",
      "userId": "11249532378747886614"
     },
     "user_tz": -120
    },
    "id": "6jEOnMR3LK4A",
    "jupyter": {
     "outputs_hidden": false
    },
    "papermill": {
     "duration": 10.176436,
     "end_time": "2024-11-12T07:37:15.710694",
     "exception": false,
     "start_time": "2024-11-12T07:37:05.534258",
     "status": "completed"
    },
    "tags": []
   },
   "outputs": [],
   "source": [
    "# df_manythings = pd.read_csv(f'{base_dir}/ara_eng.txt', delimiter='\\t', names=['EN_sentence',\n",
    "#                                                                               'AR_sentence'])\n",
    "\n",
    "# df_tatoeba = pd.read_csv(f'{base_dir}/tatoeba.tsv', delimiter='\\t', names=['EN_id',\n",
    "#                                                                         'EN_sentence',\n",
    "#                                                                         'AR_id',\n",
    "#                                                                         'AR_sentence']).drop(columns=['EN_id',\n",
    "#                                                                                                       'AR_id'])\n",
    "# df_hf_1, df_hf_2 = hf_dataset['test'], hf_dataset['validation']\n",
    "\n",
    "# df_hf_1 = pd.DataFrame(df_hf_1)[['sourceString','targetString']]\n",
    "# df_hf_1.columns = ['AR_sentence', 'EN_sentence']\n",
    "\n",
    "# df_hf_2 = pd.DataFrame(df_hf_2)[['sourceString','targetString']]\n",
    "# df_hf_2.columns = ['AR_sentence', 'EN_sentence']\n",
    "\n",
    "# df_data = pd.concat([df_manythings, df_tatoeba, df_hf_1, df_hf_2], axis=0, ignore_index=True)\n",
    "# df_data = df_data.reset_index(drop=True)\n",
    "\n",
    "df_data = pd.DataFrame(ds['train']['translation']).rename(columns={'en': 'EN_sentence',\n",
    "                                                                    'ar': 'AR_sentence',})"
   ]
  },
  {
   "cell_type": "markdown",
   "id": "02548cd6",
   "metadata": {
    "_cell_guid": "658f76c9-5ad7-44a3-82dc-b95d3941f7a6",
    "_uuid": "b0f7587c-8168-4dc8-ae42-77d1a3d7d588",
    "collapsed": false,
    "id": "MeuhdoYUXyyE",
    "jupyter": {
     "outputs_hidden": false
    },
    "papermill": {
     "duration": 0.018814,
     "end_time": "2024-11-12T07:37:15.749015",
     "exception": false,
     "start_time": "2024-11-12T07:37:15.730201",
     "status": "completed"
    },
    "tags": []
   },
   "source": [
    "### Visualizing"
   ]
  },
  {
   "cell_type": "code",
   "execution_count": 8,
   "id": "d30e2be9",
   "metadata": {
    "_cell_guid": "39366db9-8955-4c51-bc45-e2d32f4fca2c",
    "_uuid": "999e8525-2c9b-4f46-8957-cab7543f7a3b",
    "collapsed": false,
    "execution": {
     "iopub.execute_input": "2024-11-12T07:37:15.788542Z",
     "iopub.status.busy": "2024-11-12T07:37:15.788145Z",
     "iopub.status.idle": "2024-11-12T07:37:15.827430Z",
     "shell.execute_reply": "2024-11-12T07:37:15.826564Z"
    },
    "executionInfo": {
     "elapsed": 11,
     "status": "ok",
     "timestamp": 1731233862004,
     "user": {
      "displayName": "Abdelrhman Ashraf",
      "userId": "11249532378747886614"
     },
     "user_tz": -120
    },
    "id": "pr4K4EuwW1hG",
    "jupyter": {
     "outputs_hidden": false
    },
    "outputId": "22f7f6eb-8f88-4462-c090-f3c6f854a98f",
    "papermill": {
     "duration": 0.061551,
     "end_time": "2024-11-12T07:37:15.829590",
     "exception": false,
     "start_time": "2024-11-12T07:37:15.768039",
     "status": "completed"
    },
    "tags": []
   },
   "outputs": [
    {
     "data": {
      "text/html": [
       "<div>\n",
       "<style scoped>\n",
       "    .dataframe tbody tr th:only-of-type {\n",
       "        vertical-align: middle;\n",
       "    }\n",
       "\n",
       "    .dataframe tbody tr th {\n",
       "        vertical-align: top;\n",
       "    }\n",
       "\n",
       "    .dataframe thead th {\n",
       "        text-align: right;\n",
       "    }\n",
       "</style>\n",
       "<table border=\"1\" class=\"dataframe\">\n",
       "  <thead>\n",
       "    <tr style=\"text-align: right;\">\n",
       "      <th></th>\n",
       "      <th>AR_sentence</th>\n",
       "      <th>EN_sentence</th>\n",
       "    </tr>\n",
       "  </thead>\n",
       "  <tbody>\n",
       "    <tr>\n",
       "      <th>373315</th>\n",
       "      <td>لا، الطفل هنا.</td>\n",
       "      <td>No, kid's here.</td>\n",
       "    </tr>\n",
       "    <tr>\n",
       "      <th>459286</th>\n",
       "      <td>-أجل، حتى نقتل أحدهم بشكل غير مقصود</td>\n",
       "      <td>Yes, till we inadvertently kill one of them.</td>\n",
       "    </tr>\n",
       "    <tr>\n",
       "      <th>262398</th>\n",
       "      <td>عرض ممثل اسبانيا مشروع القرار بالنيابة عن مقدم...</td>\n",
       "      <td>The representative of Spain, on behalf of the ...</td>\n",
       "    </tr>\n",
       "  </tbody>\n",
       "</table>\n",
       "</div>"
      ],
      "text/plain": [
       "                                              AR_sentence  \\\n",
       "373315                                     لا، الطفل هنا.   \n",
       "459286                -أجل، حتى نقتل أحدهم بشكل غير مقصود   \n",
       "262398  عرض ممثل اسبانيا مشروع القرار بالنيابة عن مقدم...   \n",
       "\n",
       "                                              EN_sentence  \n",
       "373315                                    No, kid's here.  \n",
       "459286       Yes, till we inadvertently kill one of them.  \n",
       "262398  The representative of Spain, on behalf of the ...  "
      ]
     },
     "execution_count": 8,
     "metadata": {},
     "output_type": "execute_result"
    }
   ],
   "source": [
    "df_data.sample(3, random_state=seed)"
   ]
  },
  {
   "cell_type": "code",
   "execution_count": 9,
   "id": "fef79956",
   "metadata": {
    "execution": {
     "iopub.execute_input": "2024-11-12T07:37:15.869871Z",
     "iopub.status.busy": "2024-11-12T07:37:15.869536Z",
     "iopub.status.idle": "2024-11-12T07:38:34.170475Z",
     "shell.execute_reply": "2024-11-12T07:38:34.169692Z"
    },
    "papermill": {
     "duration": 78.324067,
     "end_time": "2024-11-12T07:38:34.173474",
     "exception": false,
     "start_time": "2024-11-12T07:37:15.849407",
     "status": "completed"
    },
    "tags": []
   },
   "outputs": [],
   "source": [
    "# https://stackoverflow.com/a/518232/2809427\n",
    "def unicodeToAscii(s):\n",
    "    return ''.join(c for c in unicodedata.normalize('NFD', s) if unicodedata.category(c) != 'Mn')\n",
    "\n",
    "def preprocess_ar(text):\n",
    "    text = text.lower()\n",
    "    text = unicodeToAscii(text)\n",
    "    text = re.sub(r\"([?.!؟،,¿])\", r\" \\1 \", text)\n",
    "    text = re.sub(r\"[^؀-ۿ?.!,¿]+\", \" \", text)\n",
    "    text = araby.strip_diacritics(text) # Remove diacritics \"التشكيل\"\n",
    "    text = re.sub(r'\\s+', ' ', text).strip() # Trim multiple whitespaces to one\n",
    "    return text\n",
    "\n",
    "def preprocess_en(text):\n",
    "    text = text.lower()\n",
    "    text = contractions.fix(text) # Fix contractions \"it's\" -> \"it is\"\n",
    "    text = re.sub(r\"([?.!,¿])\", r\" \\1 \", text)\n",
    "    text = re.sub(r\"[^a-zA-Z?.!,¿]+\", \" \", text)\n",
    "    text = re.sub(r'\\s+', ' ', text).strip() # Trim multiple whitespaces to one\n",
    "    return text\n",
    "\n",
    "\n",
    "df_data['EN_sentence'] = df_data['EN_sentence'].apply(preprocess_en)\n",
    "df_data['AR_sentence'] = df_data['AR_sentence'].apply(preprocess_ar)"
   ]
  },
  {
   "cell_type": "code",
   "execution_count": 10,
   "id": "d33a08fc",
   "metadata": {
    "execution": {
     "iopub.execute_input": "2024-11-12T07:38:34.213645Z",
     "iopub.status.busy": "2024-11-12T07:38:34.213301Z",
     "iopub.status.idle": "2024-11-12T07:38:34.247144Z",
     "shell.execute_reply": "2024-11-12T07:38:34.246309Z"
    },
    "papermill": {
     "duration": 0.055845,
     "end_time": "2024-11-12T07:38:34.249117",
     "exception": false,
     "start_time": "2024-11-12T07:38:34.193272",
     "status": "completed"
    },
    "tags": []
   },
   "outputs": [
    {
     "data": {
      "text/html": [
       "<div>\n",
       "<style scoped>\n",
       "    .dataframe tbody tr th:only-of-type {\n",
       "        vertical-align: middle;\n",
       "    }\n",
       "\n",
       "    .dataframe tbody tr th {\n",
       "        vertical-align: top;\n",
       "    }\n",
       "\n",
       "    .dataframe thead th {\n",
       "        text-align: right;\n",
       "    }\n",
       "</style>\n",
       "<table border=\"1\" class=\"dataframe\">\n",
       "  <thead>\n",
       "    <tr style=\"text-align: right;\">\n",
       "      <th></th>\n",
       "      <th>AR_sentence</th>\n",
       "      <th>EN_sentence</th>\n",
       "    </tr>\n",
       "  </thead>\n",
       "  <tbody>\n",
       "    <tr>\n",
       "      <th>373315</th>\n",
       "      <td>لا ، الطفل هنا .</td>\n",
       "      <td>no , kid s here .</td>\n",
       "    </tr>\n",
       "    <tr>\n",
       "      <th>459286</th>\n",
       "      <td>اجل ، حتى نقتل احدهم بشكل غير مقصود</td>\n",
       "      <td>yes , till we inadvertently kill one of them .</td>\n",
       "    </tr>\n",
       "    <tr>\n",
       "      <th>262398</th>\n",
       "      <td>عرض ممثل اسبانيا مشروع القرار بالنيابة عن مقدم...</td>\n",
       "      <td>the representative of spain , on behalf of the...</td>\n",
       "    </tr>\n",
       "  </tbody>\n",
       "</table>\n",
       "</div>"
      ],
      "text/plain": [
       "                                              AR_sentence  \\\n",
       "373315                                   لا ، الطفل هنا .   \n",
       "459286                اجل ، حتى نقتل احدهم بشكل غير مقصود   \n",
       "262398  عرض ممثل اسبانيا مشروع القرار بالنيابة عن مقدم...   \n",
       "\n",
       "                                              EN_sentence  \n",
       "373315                                  no , kid s here .  \n",
       "459286     yes , till we inadvertently kill one of them .  \n",
       "262398  the representative of spain , on behalf of the...  "
      ]
     },
     "execution_count": 10,
     "metadata": {},
     "output_type": "execute_result"
    }
   ],
   "source": [
    "df_data.sample(3, random_state=seed)"
   ]
  },
  {
   "cell_type": "code",
   "execution_count": 11,
   "id": "97388bc0",
   "metadata": {
    "_cell_guid": "82791955-ac05-4454-a04d-79ff1445e6b5",
    "_uuid": "eb3335c0-e8c8-458d-97a9-cb5521fd4594",
    "collapsed": false,
    "execution": {
     "iopub.execute_input": "2024-11-12T07:38:34.289198Z",
     "iopub.status.busy": "2024-11-12T07:38:34.288884Z",
     "iopub.status.idle": "2024-11-12T07:38:36.944157Z",
     "shell.execute_reply": "2024-11-12T07:38:36.943296Z"
    },
    "executionInfo": {
     "elapsed": 312,
     "status": "ok",
     "timestamp": 1731233862309,
     "user": {
      "displayName": "Abdelrhman Ashraf",
      "userId": "11249532378747886614"
     },
     "user_tz": -120
    },
    "id": "lkehEZmETpS3",
    "jupyter": {
     "outputs_hidden": false
    },
    "papermill": {
     "duration": 2.677807,
     "end_time": "2024-11-12T07:38:36.946350",
     "exception": false,
     "start_time": "2024-11-12T07:38:34.268543",
     "status": "completed"
    },
    "tags": []
   },
   "outputs": [],
   "source": [
    "df_data['EN_sentence_length'] = df_data['EN_sentence'].apply(lambda x: len(x.split(' ')))\n",
    "df_data['AR_sentence_length'] = df_data['AR_sentence'].apply(lambda x: len(x.split(' ')))"
   ]
  },
  {
   "cell_type": "code",
   "execution_count": 12,
   "id": "ae390682",
   "metadata": {
    "execution": {
     "iopub.execute_input": "2024-11-12T07:38:36.987473Z",
     "iopub.status.busy": "2024-11-12T07:38:36.987113Z",
     "iopub.status.idle": "2024-11-12T07:38:37.104572Z",
     "shell.execute_reply": "2024-11-12T07:38:37.103712Z"
    },
    "papermill": {
     "duration": 0.140344,
     "end_time": "2024-11-12T07:38:37.106810",
     "exception": false,
     "start_time": "2024-11-12T07:38:36.966466",
     "status": "completed"
    },
    "tags": []
   },
   "outputs": [],
   "source": [
    "## Drop sentences that has length >= 100\n",
    "df_data = df_data[(df_data['EN_sentence_length'] < 100) & (df_data['AR_sentence_length'] < 100)]"
   ]
  },
  {
   "cell_type": "code",
   "execution_count": 13,
   "id": "f9c7740f",
   "metadata": {
    "_cell_guid": "2ce3e90d-84aa-4528-b3b8-ebb69e124bee",
    "_uuid": "c0db62ea-a6e2-4884-8cb9-459b90c5d335",
    "collapsed": false,
    "execution": {
     "iopub.execute_input": "2024-11-12T07:38:37.148272Z",
     "iopub.status.busy": "2024-11-12T07:38:37.147639Z",
     "iopub.status.idle": "2024-11-12T07:38:38.024022Z",
     "shell.execute_reply": "2024-11-12T07:38:38.023176Z"
    },
    "executionInfo": {
     "elapsed": 922,
     "status": "ok",
     "timestamp": 1731233863229,
     "user": {
      "displayName": "Abdelrhman Ashraf",
      "userId": "11249532378747886614"
     },
     "user_tz": -120
    },
    "id": "yYMZjHJsaUBK",
    "jupyter": {
     "outputs_hidden": false
    },
    "outputId": "0ba341d8-f865-496b-9920-fb489d215d61",
    "papermill": {
     "duration": 0.899451,
     "end_time": "2024-11-12T07:38:38.026241",
     "exception": false,
     "start_time": "2024-11-12T07:38:37.126790",
     "status": "completed"
    },
    "tags": []
   },
   "outputs": [
    {
     "data": {
      "image/png": "[encoded data removed]",
      "text/plain": [
       "<Figure size 1200x500 with 2 Axes>"
      ]
     },
     "metadata": {},
     "output_type": "display_data"
    }
   ],
   "source": [
    "# Create a figure and two subplots\n",
    "fig, axes = plt.subplots(1, 2, figsize=(12, 5))\n",
    "\n",
    "# Define custom tick range based on your data range\n",
    "# EN_x_ticks = np.arange(0, df_data['EN_sentence_length'].max()+1, 100)\n",
    "# AR_x_ticks = np.arange(0, df_data['AR_sentence_length'].max()+1, 100)\n",
    "\n",
    "# Plot histogram for EN_sentence_length\n",
    "axes[0].hist(df_data['EN_sentence_length'], bins=100, color='skyblue', edgecolor='black')\n",
    "axes[0].set_title('EN Sentence Length')\n",
    "axes[0].set_xlabel('Length')\n",
    "axes[0].set_ylabel('Frequency')\n",
    "# axes[0].set_xticks(EN_x_ticks)  # Add more x-axis ticks\n",
    "\n",
    "# Plot histogram for AR_sentence_length\n",
    "axes[1].hist(df_data['AR_sentence_length'], bins=100, color='salmon', edgecolor='black')\n",
    "axes[1].set_title('AR Sentence Length')\n",
    "axes[1].set_xlabel('Length')\n",
    "axes[1].set_ylabel('Frequency')\n",
    "# axes[1].set_xticks(AR_x_ticks)  # Add more x-axis ticks\n",
    "\n",
    "# Display the plots\n",
    "plt.tight_layout()\n",
    "plt.show()"
   ]
  },
  {
   "cell_type": "markdown",
   "id": "10dd62bb",
   "metadata": {
    "_cell_guid": "93840f23-72fc-4a14-afab-a7d0bb3cbdec",
    "_uuid": "e1d2150a-bbdd-4a97-987f-3c5c348cf946",
    "collapsed": false,
    "id": "JnYOEPnJSK1I",
    "jupyter": {
     "outputs_hidden": false
    },
    "papermill": {
     "duration": 0.01968,
     "end_time": "2024-11-12T07:38:38.066253",
     "exception": false,
     "start_time": "2024-11-12T07:38:38.046573",
     "status": "completed"
    },
    "tags": []
   },
   "source": [
    "As we see there are long and too short sentences.\n",
    "\n",
    "Short sentences will suffer from vanishing Gradients, As we will do post-padding (right-padding), so we will dorp short sentences."
   ]
  },
  {
   "cell_type": "markdown",
   "id": "076f730a",
   "metadata": {
    "_cell_guid": "5401299b-ecd8-4433-8818-2dde942b8f1c",
    "_uuid": "7993eb62-7c1c-4400-a2cc-488985cda970",
    "collapsed": false,
    "id": "yk9hgqksU9_W",
    "jupyter": {
     "outputs_hidden": false
    },
    "papermill": {
     "duration": 0.019759,
     "end_time": "2024-11-12T07:38:38.106103",
     "exception": false,
     "start_time": "2024-11-12T07:38:38.086344",
     "status": "completed"
    },
    "tags": []
   },
   "source": [
    "### Cleaning"
   ]
  },
  {
   "cell_type": "code",
   "execution_count": 14,
   "id": "e58d2254",
   "metadata": {
    "_cell_guid": "de16e1a4-e20e-4ec4-b24f-b05db3f151dd",
    "_uuid": "c68e2832-2b45-4638-96d4-9bbd6c10231c",
    "collapsed": false,
    "execution": {
     "iopub.execute_input": "2024-11-12T07:38:38.147748Z",
     "iopub.status.busy": "2024-11-12T07:38:38.147079Z",
     "iopub.status.idle": "2024-11-12T07:38:38.442931Z",
     "shell.execute_reply": "2024-11-12T07:38:38.441688Z"
    },
    "executionInfo": {
     "elapsed": 9,
     "status": "ok",
     "timestamp": 1731233863229,
     "user": {
      "displayName": "Abdelrhman Ashraf",
      "userId": "11249532378747886614"
     },
     "user_tz": -120
    },
    "id": "D7-HJg_PVBWV",
    "jupyter": {
     "outputs_hidden": false
    },
    "outputId": "882a3d1e-ea75-4afb-a6ff-e976d037e084",
    "papermill": {
     "duration": 0.31907,
     "end_time": "2024-11-12T07:38:38.444990",
     "exception": false,
     "start_time": "2024-11-12T07:38:38.125920",
     "status": "completed"
    },
    "tags": []
   },
   "outputs": [
    {
     "name": "stdout",
     "output_type": "stream",
     "text": [
      "<class 'pandas.core.frame.DataFrame'>\n",
      "Index: 997996 entries, 0 to 999999\n",
      "Data columns (total 4 columns):\n",
      " #   Column              Non-Null Count   Dtype \n",
      "---  ------              --------------   ----- \n",
      " 0   AR_sentence         997996 non-null  object\n",
      " 1   EN_sentence         997996 non-null  object\n",
      " 2   EN_sentence_length  997996 non-null  int64 \n",
      " 3   AR_sentence_length  997996 non-null  int64 \n",
      "dtypes: int64(2), object(2)\n",
      "memory usage: 38.1+ MB\n",
      "None\n"
     ]
    },
    {
     "data": {
      "text/html": [
       "<div>\n",
       "<style scoped>\n",
       "    .dataframe tbody tr th:only-of-type {\n",
       "        vertical-align: middle;\n",
       "    }\n",
       "\n",
       "    .dataframe tbody tr th {\n",
       "        vertical-align: top;\n",
       "    }\n",
       "\n",
       "    .dataframe thead th {\n",
       "        text-align: right;\n",
       "    }\n",
       "</style>\n",
       "<table border=\"1\" class=\"dataframe\">\n",
       "  <thead>\n",
       "    <tr style=\"text-align: right;\">\n",
       "      <th></th>\n",
       "      <th>EN_sentence_length</th>\n",
       "      <th>AR_sentence_length</th>\n",
       "    </tr>\n",
       "  </thead>\n",
       "  <tbody>\n",
       "    <tr>\n",
       "      <th>count</th>\n",
       "      <td>997996.000000</td>\n",
       "      <td>997996.000000</td>\n",
       "    </tr>\n",
       "    <tr>\n",
       "      <th>mean</th>\n",
       "      <td>11.934556</td>\n",
       "      <td>8.967793</td>\n",
       "    </tr>\n",
       "    <tr>\n",
       "      <th>std</th>\n",
       "      <td>11.280625</td>\n",
       "      <td>9.736318</td>\n",
       "    </tr>\n",
       "    <tr>\n",
       "      <th>min</th>\n",
       "      <td>1.000000</td>\n",
       "      <td>1.000000</td>\n",
       "    </tr>\n",
       "    <tr>\n",
       "      <th>25%</th>\n",
       "      <td>5.000000</td>\n",
       "      <td>4.000000</td>\n",
       "    </tr>\n",
       "    <tr>\n",
       "      <th>50%</th>\n",
       "      <td>8.000000</td>\n",
       "      <td>6.000000</td>\n",
       "    </tr>\n",
       "    <tr>\n",
       "      <th>75%</th>\n",
       "      <td>14.000000</td>\n",
       "      <td>10.000000</td>\n",
       "    </tr>\n",
       "    <tr>\n",
       "      <th>max</th>\n",
       "      <td>99.000000</td>\n",
       "      <td>99.000000</td>\n",
       "    </tr>\n",
       "  </tbody>\n",
       "</table>\n",
       "</div>"
      ],
      "text/plain": [
       "       EN_sentence_length  AR_sentence_length\n",
       "count       997996.000000       997996.000000\n",
       "mean            11.934556            8.967793\n",
       "std             11.280625            9.736318\n",
       "min              1.000000            1.000000\n",
       "25%              5.000000            4.000000\n",
       "50%              8.000000            6.000000\n",
       "75%             14.000000           10.000000\n",
       "max             99.000000           99.000000"
      ]
     },
     "execution_count": 14,
     "metadata": {},
     "output_type": "execute_result"
    }
   ],
   "source": [
    "print(df_data.info())\n",
    "df_data.describe()\n",
    "## so Q3 at 14"
   ]
  },
  {
   "cell_type": "code",
   "execution_count": 15,
   "id": "b56ad5fd",
   "metadata": {
    "_cell_guid": "6b37401f-f687-4f7c-aca0-c9acd2bf4664",
    "_uuid": "4ac3524d-109b-4e79-a6b2-8f63d3643f9f",
    "collapsed": false,
    "execution": {
     "iopub.execute_input": "2024-11-12T07:38:38.487321Z",
     "iopub.status.busy": "2024-11-12T07:38:38.487010Z",
     "iopub.status.idle": "2024-11-12T07:38:39.987315Z",
     "shell.execute_reply": "2024-11-12T07:38:39.986341Z"
    },
    "executionInfo": {
     "elapsed": 6,
     "status": "ok",
     "timestamp": 1731233863230,
     "user": {
      "displayName": "Abdelrhman Ashraf",
      "userId": "11249532378747886614"
     },
     "user_tz": -120
    },
    "id": "1XTCKT3nXxOD",
    "jupyter": {
     "outputs_hidden": false
    },
    "papermill": {
     "duration": 1.524207,
     "end_time": "2024-11-12T07:38:39.989747",
     "exception": false,
     "start_time": "2024-11-12T07:38:38.465540",
     "status": "completed"
    },
    "tags": []
   },
   "outputs": [
    {
     "data": {
      "text/plain": [
       "AR_sentence           0\n",
       "EN_sentence           0\n",
       "EN_sentence_length    0\n",
       "AR_sentence_length    0\n",
       "dtype: int64"
      ]
     },
     "execution_count": 15,
     "metadata": {},
     "output_type": "execute_result"
    }
   ],
   "source": [
    "indices_to_drop = []\n",
    "\n",
    "idx = (df_data[(df_data['AR_sentence_length'].isin([1])) | \n",
    "                (df_data['EN_sentence_length'] == 1)]).index\n",
    "indices_to_drop += list(idx)\n",
    "\n",
    "idx = df_data[(df_data['EN_sentence_length'] > 15) | \n",
    "                (df_data['AR_sentence_length'] > 15)].index\n",
    "indices_to_drop += list(idx)\n",
    "\n",
    "idx = (df_data[(df_data['AR_sentence_length'].isin([2])) & \n",
    "               (df_data['EN_sentence_length'] > 7)]).index\n",
    "indices_to_drop += list(idx)\n",
    "\n",
    "idx = (df_data[(df_data['AR_sentence_length'].isin([3])) & \n",
    "               (df_data['EN_sentence_length'] > 12)]).index\n",
    "indices_to_drop += list(idx)\n",
    "indices_to_drop += list([100934, 101388, 100488, 79292]) ## Bad indices\n",
    "indices_to_drop = list(set(indices_to_drop))\n",
    "\n",
    "filtered_data = df_data.drop(indices_to_drop).reset_index(drop=True)\n",
    "\n",
    "# df_data = df_data.drop_duplicates(keep='first', subset='AR_sentence')\n",
    "filtered_data = filtered_data.drop_duplicates(keep='first', subset='EN_sentence')\n",
    "\n",
    "filtered_data = filtered_data.replace('', pd.NA).dropna()\n",
    "filtered_data = filtered_data.replace(' ', pd.NA).dropna()\n",
    "filtered_data.isna().sum()"
   ]
  },
  {
   "cell_type": "code",
   "execution_count": 16,
   "id": "6a73f36d",
   "metadata": {
    "_cell_guid": "e6d0a9ee-0f33-4fd3-9d10-3b26815ec3fe",
    "_uuid": "06c813f4-6881-4566-a2df-485bdfac9520",
    "collapsed": false,
    "execution": {
     "iopub.execute_input": "2024-11-12T07:38:40.034250Z",
     "iopub.status.busy": "2024-11-12T07:38:40.033915Z",
     "iopub.status.idle": "2024-11-12T07:38:40.617687Z",
     "shell.execute_reply": "2024-11-12T07:38:40.616899Z"
    },
    "executionInfo": {
     "elapsed": 759,
     "status": "ok",
     "timestamp": 1731233863984,
     "user": {
      "displayName": "Abdelrhman Ashraf",
      "userId": "11249532378747886614"
     },
     "user_tz": -120
    },
    "id": "JYQ1JaoEfw9F",
    "jupyter": {
     "outputs_hidden": false
    },
    "outputId": "4c7856f2-a45b-4a0b-b5a2-ccdbc377cb25",
    "papermill": {
     "duration": 0.607357,
     "end_time": "2024-11-12T07:38:40.619901",
     "exception": false,
     "start_time": "2024-11-12T07:38:40.012544",
     "status": "completed"
    },
    "tags": []
   },
   "outputs": [
    {
     "data": {
      "image/png": "[encoded data removed]",
      "text/plain": [
       "<Figure size 1200x500 with 2 Axes>"
      ]
     },
     "metadata": {},
     "output_type": "display_data"
    }
   ],
   "source": [
    "# Create a figure and two subplots\n",
    "fig, axes = plt.subplots(1, 2, figsize=(12, 5))\n",
    "\n",
    "# Define custom tick range based on your data range\n",
    "EN_x_ticks = np.arange(0, filtered_data['EN_sentence_length'].max()+1, 2)\n",
    "AR_x_ticks = np.arange(0, filtered_data['AR_sentence_length'].max()+1, 2)\n",
    "\n",
    "# Plot histogram for EN_sentence_length\n",
    "axes[0].hist(filtered_data['EN_sentence_length'], bins=50, color='skyblue', edgecolor='black')\n",
    "axes[0].set_title('EN Sentence Length')\n",
    "axes[0].set_xlabel('Length')\n",
    "axes[0].set_ylabel('Frequency')\n",
    "axes[0].set_xticks(EN_x_ticks)  # Add more x-axis ticks\n",
    "\n",
    "# Plot histogram for AR_sentence_length\n",
    "axes[1].hist(filtered_data['AR_sentence_length'], bins=50, color='salmon', edgecolor='black')\n",
    "axes[1].set_title('AR Sentence Length')\n",
    "axes[1].set_xlabel('Length')\n",
    "axes[1].set_ylabel('Frequency')\n",
    "axes[1].set_xticks(AR_x_ticks)  # Add more x-axis ticks\n",
    "\n",
    "# Display the plots\n",
    "plt.tight_layout()\n",
    "plt.show()"
   ]
  },
  {
   "cell_type": "markdown",
   "id": "448620ab",
   "metadata": {
    "_cell_guid": "2ded56c1-f0e8-4a28-aa06-266e70ba1746",
    "_uuid": "724377a6-b9a8-4e18-ad30-8907bbc42b5d",
    "collapsed": false,
    "id": "0qY-VQnsX6Uz",
    "jupyter": {
     "outputs_hidden": false
    },
    "papermill": {
     "duration": 0.021033,
     "end_time": "2024-11-12T07:38:40.662242",
     "exception": false,
     "start_time": "2024-11-12T07:38:40.641209",
     "status": "completed"
    },
    "tags": []
   },
   "source": [
    "### Spliting"
   ]
  },
  {
   "cell_type": "code",
   "execution_count": 17,
   "id": "83c9ce11",
   "metadata": {
    "_cell_guid": "4827dfe0-5cac-4a5f-b16e-f4a0f12275f3",
    "_uuid": "e27f0b2f-b122-4bf6-97cb-9fee19db02ca",
    "collapsed": false,
    "execution": {
     "iopub.execute_input": "2024-11-12T07:38:40.705967Z",
     "iopub.status.busy": "2024-11-12T07:38:40.705124Z",
     "iopub.status.idle": "2024-11-12T07:38:40.864917Z",
     "shell.execute_reply": "2024-11-12T07:38:40.863951Z"
    },
    "executionInfo": {
     "elapsed": 5,
     "status": "ok",
     "timestamp": 1731233863984,
     "user": {
      "displayName": "Abdelrhman Ashraf",
      "userId": "11249532378747886614"
     },
     "user_tz": -120
    },
    "id": "YVmnp4vwW1e5",
    "jupyter": {
     "outputs_hidden": false
    },
    "outputId": "7eaa09bf-7ac0-4dea-9ea4-3596f29d47c9",
    "papermill": {
     "duration": 0.184147,
     "end_time": "2024-11-12T07:38:40.867208",
     "exception": false,
     "start_time": "2024-11-12T07:38:40.683061",
     "status": "completed"
    },
    "tags": []
   },
   "outputs": [
    {
     "name": "stdout",
     "output_type": "stream",
     "text": [
      "(373765, 4), (124589, 4), (124588, 4)\n"
     ]
    }
   ],
   "source": [
    "df_train, df_test = train_test_split(filtered_data, test_size=valid_test_size, shuffle=True, random_state=seed)\n",
    "df_valid, df_test = train_test_split(df_test, test_size=0.5, shuffle=True, random_state=seed)\n",
    "\n",
    "print(df_train.shape, df_test.shape, df_valid.shape, sep=', ')"
   ]
  },
  {
   "cell_type": "markdown",
   "id": "e934ce79",
   "metadata": {
    "_cell_guid": "d2b96602-f2d3-42d4-9354-5d03cd34567f",
    "_uuid": "52c29e11-bff0-4ac1-9277-988f3a67f908",
    "collapsed": false,
    "id": "x_tK_7w7X9k7",
    "jupyter": {
     "outputs_hidden": false
    },
    "papermill": {
     "duration": 0.020817,
     "end_time": "2024-11-12T07:38:40.909895",
     "exception": false,
     "start_time": "2024-11-12T07:38:40.889078",
     "status": "completed"
    },
    "tags": []
   },
   "source": [
    "### Loading and preprocessing (DataPipeline)"
   ]
  },
  {
   "cell_type": "code",
   "execution_count": 18,
   "id": "d0fecba8",
   "metadata": {
    "_cell_guid": "51223be9-dc37-4e76-b718-64a53cff204e",
    "_uuid": "5efa6e4e-b322-4cbc-9012-593d1981505e",
    "collapsed": false,
    "execution": {
     "iopub.execute_input": "2024-11-12T07:38:40.952986Z",
     "iopub.status.busy": "2024-11-12T07:38:40.952645Z",
     "iopub.status.idle": "2024-11-12T07:38:40.959856Z",
     "shell.execute_reply": "2024-11-12T07:38:40.958961Z"
    },
    "executionInfo": {
     "elapsed": 3,
     "status": "ok",
     "timestamp": 1731233863984,
     "user": {
      "displayName": "Abdelrhman Ashraf",
      "userId": "11249532378747886614"
     },
     "user_tz": -120
    },
    "id": "WcmKh1fRakye",
    "jupyter": {
     "outputs_hidden": false
    },
    "papermill": {
     "duration": 0.031152,
     "end_time": "2024-11-12T07:38:40.961960",
     "exception": false,
     "start_time": "2024-11-12T07:38:40.930808",
     "status": "completed"
    },
    "tags": []
   },
   "outputs": [],
   "source": [
    "# Arabic Tokenizer\n",
    "class camel_tokenizer():\n",
    "    def __call__(self, text):\n",
    "        return simple_word_tokenize(text)\n",
    "        # return [tok.text.lower() for tok in simple_word_tokenize(text)]\n",
    "\n",
    "\n",
    "# English Tokenizer\n",
    "class spacy_tokenizer:\n",
    "    def __init__(self):\n",
    "        self.spacy_eng = spacy.load(\"en_core_web_sm\", disable=[\"ner\", \"parser\"])\n",
    "        self.spacy_eng.max_length = 10**6\n",
    "\n",
    "    def __call__(self, text):\n",
    "        return [tok.text for tok in self.spacy_eng.tokenizer(text)]\n",
    "\n",
    "    def batch_tokenize(self, texts):\n",
    "        return [[tok.text for tok in doc] for doc in self.spacy_eng.pipe(texts, batch_size=256)]\n"
   ]
  },
  {
   "cell_type": "code",
   "execution_count": 19,
   "id": "9a8a44fa",
   "metadata": {
    "_cell_guid": "68d52d75-d185-413e-ac51-d783a1674441",
    "_uuid": "9c54045e-9bee-4006-a808-96c86b15256b",
    "collapsed": false,
    "execution": {
     "iopub.execute_input": "2024-11-12T07:38:41.006055Z",
     "iopub.status.busy": "2024-11-12T07:38:41.005267Z",
     "iopub.status.idle": "2024-11-12T07:38:41.019616Z",
     "shell.execute_reply": "2024-11-12T07:38:41.018767Z"
    },
    "executionInfo": {
     "elapsed": 3,
     "status": "ok",
     "timestamp": 1731233863984,
     "user": {
      "displayName": "Abdelrhman Ashraf",
      "userId": "11249532378747886614"
     },
     "user_tz": -120
    },
    "id": "46MfvfOhYA5E",
    "jupyter": {
     "outputs_hidden": false
    },
    "papermill": {
     "duration": 0.038814,
     "end_time": "2024-11-12T07:38:41.021596",
     "exception": false,
     "start_time": "2024-11-12T07:38:40.982782",
     "status": "completed"
    },
    "tags": []
   },
   "outputs": [],
   "source": [
    "class Vocabulary:\n",
    "    def __init__(self, tokenizer, max_freq=3, unk=True, sos=False, eos=False):\n",
    "        self.sos = sos\n",
    "        self.eos = eos\n",
    "        self.unk = unk\n",
    "        self.tokenizer = tokenizer\n",
    "        self.max_freq = max_freq\n",
    "\n",
    "        self.stoi = {\"<PAD>\": 0}\n",
    "        if unk: self.stoi['<UNK>'] = len(self.stoi)\n",
    "        if sos: self.stoi['<SOS>'] = len(self.stoi)\n",
    "        if eos: self.stoi['<EOS>'] = len(self.stoi)\n",
    "\n",
    "    def __len__(self):\n",
    "        return len(self.stoi)\n",
    "\n",
    "    def get_vocabulary(self):\n",
    "        return self.stoi\n",
    "\n",
    "    def add_token(self, token_name: str):\n",
    "        if token_name not in self.stoi:\n",
    "            self.stoi[token_name] = len(self.stoi)\n",
    "\n",
    "    def build_vocabulary(self, sentences_list):\n",
    "        if isinstance(sentences_list[0], list):\n",
    "            sentences_list = [' '.join(sentence) for sentence in sentences_list]\n",
    "\n",
    "        if isinstance(self.tokenizer, spacy_tokenizer) and hasattr(self.tokenizer, 'batch_tokenize'):\n",
    "            tokens_list = self.tokenizer.batch_tokenize(sentences_list)\n",
    "        else:\n",
    "            tokens_list = [self.tokenizer(sentence) for sentence in sentences_list]\n",
    "\n",
    "        word_counts = Counter(token for tokens in tokens_list for token in tokens)\n",
    "        filtered_words = [word for word, count in word_counts.items() if count >= self.max_freq]\n",
    "        self.stoi.update({word: i+len(self.stoi) for i, word in enumerate(filtered_words)})\n",
    "\n",
    "    def get_numerical_tokens(self, text):\n",
    "        tokens = self.tokenizer(text)\n",
    "        if self.sos: tokens.insert(0, '<SOS>')\n",
    "        if self.eos: tokens.append('<EOS>')\n",
    "        unk_id = self.stoi.get('<UNK>', None)\n",
    "        return [self.stoi.get(token, unk_id) for token in tokens]\n",
    "\n",
    "    def __call__(self, text):\n",
    "        return self.get_numerical_tokens(text)\n",
    "\n",
    "    def tokens_to_text(self, tokens_list):\n",
    "        keys = list(self.stoi.keys())\n",
    "        values = list(self.stoi.values())\n",
    "\n",
    "        return ' '.join([keys[values.index(token)] for token in tokens_list])"
   ]
  },
  {
   "cell_type": "code",
   "execution_count": 20,
   "id": "ef073716",
   "metadata": {
    "_cell_guid": "d751258b-c525-4b89-a196-5c12b044fed3",
    "_uuid": "935e104d-c674-4f0b-b13a-d31914cd1d05",
    "collapsed": false,
    "execution": {
     "iopub.execute_input": "2024-11-12T07:38:41.065821Z",
     "iopub.status.busy": "2024-11-12T07:38:41.064920Z",
     "iopub.status.idle": "2024-11-12T07:38:41.072367Z",
     "shell.execute_reply": "2024-11-12T07:38:41.071558Z"
    },
    "executionInfo": {
     "elapsed": 3,
     "status": "ok",
     "timestamp": 1731233863984,
     "user": {
      "displayName": "Abdelrhman Ashraf",
      "userId": "11249532378747886614"
     },
     "user_tz": -120
    },
    "id": "77CoJfh-e0xT",
    "jupyter": {
     "outputs_hidden": false
    },
    "papermill": {
     "duration": 0.031556,
     "end_time": "2024-11-12T07:38:41.074205",
     "exception": false,
     "start_time": "2024-11-12T07:38:41.042649",
     "status": "completed"
    },
    "tags": []
   },
   "outputs": [],
   "source": [
    "class MT_Dataset(Dataset):\n",
    "\n",
    "    def __init__(self, en_sentences_list, ar_sentences_list, en_vocabulary:Vocabulary, ar_vocabulary:Vocabulary):\n",
    "\n",
    "        super(MT_Dataset, self).__init__()\n",
    "        self.ar_sentences_list = ar_sentences_list\n",
    "        self.en_sentences_list = en_sentences_list\n",
    "        self.ar_vocabulary = ar_vocabulary\n",
    "        self.en_vocabulary = en_vocabulary\n",
    "        # self.maxlen = maxlen\n",
    "\n",
    "    def __len__(self):\n",
    "        return len(self.en_sentences_list)\n",
    "\n",
    "    def __getitem__(self, index):\n",
    "        en_sentence, ar_sentence = self.en_sentences_list[index], self.ar_sentences_list[index]\n",
    "\n",
    "        en_numrical_tokens = self.en_vocabulary(en_sentence)\n",
    "        ar_numrical_tokens = self.ar_vocabulary(ar_sentence)\n",
    "\n",
    "        return torch.tensor(en_numrical_tokens), torch.tensor(ar_numrical_tokens)"
   ]
  },
  {
   "cell_type": "code",
   "execution_count": 21,
   "id": "62ff5d7b",
   "metadata": {
    "_cell_guid": "47c0900b-d167-4818-ba8e-e1147ed613b9",
    "_uuid": "a54656ee-11dc-4c06-ab78-3899410b45a9",
    "collapsed": false,
    "execution": {
     "iopub.execute_input": "2024-11-12T07:38:41.118208Z",
     "iopub.status.busy": "2024-11-12T07:38:41.117353Z",
     "iopub.status.idle": "2024-11-12T07:38:41.124337Z",
     "shell.execute_reply": "2024-11-12T07:38:41.123481Z"
    },
    "executionInfo": {
     "elapsed": 4,
     "status": "ok",
     "timestamp": 1731233863985,
     "user": {
      "displayName": "Abdelrhman Ashraf",
      "userId": "11249532378747886614"
     },
     "user_tz": -120
    },
    "id": "u4xNdej7gDiO",
    "jupyter": {
     "outputs_hidden": false
    },
    "papermill": {
     "duration": 0.031005,
     "end_time": "2024-11-12T07:38:41.126351",
     "exception": false,
     "start_time": "2024-11-12T07:38:41.095346",
     "status": "completed"
    },
    "tags": []
   },
   "outputs": [],
   "source": [
    "class MYCollate():\n",
    "    def __init__(self, batch_first=True, pad_value=0):\n",
    "        self.pad_value = pad_value\n",
    "        self.batch_first = batch_first\n",
    "\n",
    "    def __call__(self, data):\n",
    "        en_stentences = [ex[0] for ex in data]\n",
    "        ar_stentences = [ex[1] for ex in data]\n",
    "\n",
    "        padded_en_stentences = nn.utils.rnn.pad_sequence(en_stentences, batch_first=self.batch_first,\n",
    "                                                      padding_value=self.pad_value)\n",
    "        padded_ar_stentences = nn.utils.rnn.pad_sequence(ar_stentences, batch_first=self.batch_first,\n",
    "                                                      padding_value=self.pad_value)\n",
    "        return padded_en_stentences, padded_ar_stentences"
   ]
  },
  {
   "cell_type": "code",
   "execution_count": 22,
   "id": "c547b887",
   "metadata": {
    "_cell_guid": "14b402fa-17df-4017-a7da-365181a14479",
    "_uuid": "18c8ef64-8c8e-4c81-8b84-441d37feafcc",
    "collapsed": false,
    "execution": {
     "iopub.execute_input": "2024-11-12T07:38:41.169862Z",
     "iopub.status.busy": "2024-11-12T07:38:41.169504Z",
     "iopub.status.idle": "2024-11-12T07:52:26.232010Z",
     "shell.execute_reply": "2024-11-12T07:52:26.230988Z"
    },
    "executionInfo": {
     "elapsed": 67228,
     "status": "ok",
     "timestamp": 1731233931209,
     "user": {
      "displayName": "Abdelrhman Ashraf",
      "userId": "11249532378747886614"
     },
     "user_tz": -120
    },
    "id": "oV00SOQbYA3N",
    "jupyter": {
     "outputs_hidden": false
    },
    "outputId": "2aa5864a-a73c-4f7c-816b-194564811a21",
    "papermill": {
     "duration": 825.107715,
     "end_time": "2024-11-12T07:52:26.255195",
     "exception": false,
     "start_time": "2024-11-12T07:38:41.147480",
     "status": "completed"
    },
    "tags": []
   },
   "outputs": [
    {
     "name": "stdout",
     "output_type": "stream",
     "text": [
      "len(en_vocab) = 30746\n",
      "len(ar_vocab) = 68231\n"
     ]
    }
   ],
   "source": [
    "en_tokenizer = spacy_tokenizer()\n",
    "en_vocab = Vocabulary(en_tokenizer, max_freq=max_freq, unk=True, sos=True, eos=True)\n",
    "en_vocab.build_vocabulary(df_train['EN_sentence'].values)\n",
    "print(f'{len(en_vocab) = }')\n",
    "\n",
    "ar_tokenizer = camel_tokenizer()\n",
    "ar_vocab = Vocabulary(ar_tokenizer, max_freq=max_freq, unk=True, sos=True, eos=True)\n",
    "ar_vocab.build_vocabulary(df_train['AR_sentence'].values)\n",
    "print(f'{len(ar_vocab) = }')"
   ]
  },
  {
   "cell_type": "code",
   "execution_count": 23,
   "id": "48a357d2",
   "metadata": {
    "_cell_guid": "4789d166-345f-43a8-b385-17f80b65e83b",
    "_uuid": "44ef404a-9854-43c5-925c-8a34e31ccc49",
    "collapsed": false,
    "execution": {
     "iopub.execute_input": "2024-11-12T07:52:26.300746Z",
     "iopub.status.busy": "2024-11-12T07:52:26.299968Z",
     "iopub.status.idle": "2024-11-12T07:52:26.306750Z",
     "shell.execute_reply": "2024-11-12T07:52:26.305772Z"
    },
    "executionInfo": {
     "elapsed": 6,
     "status": "ok",
     "timestamp": 1731233931210,
     "user": {
      "displayName": "Abdelrhman Ashraf",
      "userId": "11249532378747886614"
     },
     "user_tz": -120
    },
    "id": "jENeERnqgomm",
    "jupyter": {
     "outputs_hidden": false
    },
    "papermill": {
     "duration": 0.031758,
     "end_time": "2024-11-12T07:52:26.308707",
     "exception": false,
     "start_time": "2024-11-12T07:52:26.276949",
     "status": "completed"
    },
    "tags": []
   },
   "outputs": [],
   "source": [
    "train_ds = MT_Dataset(df_train['EN_sentence'].values, df_train['AR_sentence'].values,\n",
    "                          en_vocabulary=en_vocab, ar_vocabulary=ar_vocab)\n",
    "\n",
    "valid_ds = MT_Dataset(df_valid['EN_sentence'].values, df_valid['AR_sentence'].values,\n",
    "                          en_vocabulary=en_vocab, ar_vocabulary=ar_vocab)\n",
    "\n",
    "test_ds = MT_Dataset(df_test['EN_sentence'].values, df_train['AR_sentence'].values,\n",
    "                          en_vocabulary=en_vocab, ar_vocabulary=ar_vocab)"
   ]
  },
  {
   "cell_type": "code",
   "execution_count": 24,
   "id": "c55bb695",
   "metadata": {
    "_cell_guid": "a10ccc79-3902-471a-928f-cba34ca00282",
    "_uuid": "06399323-d0b3-4af8-9019-3430895769e8",
    "collapsed": false,
    "execution": {
     "iopub.execute_input": "2024-11-12T07:52:26.354897Z",
     "iopub.status.busy": "2024-11-12T07:52:26.354497Z",
     "iopub.status.idle": "2024-11-12T07:52:26.413702Z",
     "shell.execute_reply": "2024-11-12T07:52:26.412742Z"
    },
    "executionInfo": {
     "elapsed": 5,
     "status": "ok",
     "timestamp": 1731233931210,
     "user": {
      "displayName": "Abdelrhman Ashraf",
      "userId": "11249532378747886614"
     },
     "user_tz": -120
    },
    "id": "HT8HBMCKh_Sx",
    "jupyter": {
     "outputs_hidden": false
    },
    "outputId": "50cdbe43-dce1-4945-b870-ccc8cdeaa8ab",
    "papermill": {
     "duration": 0.085345,
     "end_time": "2024-11-12T07:52:26.415654",
     "exception": false,
     "start_time": "2024-11-12T07:52:26.330309",
     "status": "completed"
    },
    "tags": []
   },
   "outputs": [
    {
     "data": {
      "text/plain": [
       "('<SOS> marion , listen very closely . <EOS>',\n",
       " '<SOS> ماريون ، استمعي جيدا . <EOS>')"
      ]
     },
     "execution_count": 24,
     "metadata": {},
     "output_type": "execute_result"
    }
   ],
   "source": [
    "en_vocab.tokens_to_text(train_ds[4][0]), ar_vocab.tokens_to_text(train_ds[4][1])"
   ]
  },
  {
   "cell_type": "code",
   "execution_count": 25,
   "id": "4e3c073a",
   "metadata": {
    "_cell_guid": "ece9c447-29db-41df-bf0f-b99dfd019872",
    "_uuid": "3b59c099-2c91-40b2-a7f1-e2b8a51c34e6",
    "collapsed": false,
    "execution": {
     "iopub.execute_input": "2024-11-12T07:52:26.460581Z",
     "iopub.status.busy": "2024-11-12T07:52:26.460235Z",
     "iopub.status.idle": "2024-11-12T07:52:28.517844Z",
     "shell.execute_reply": "2024-11-12T07:52:28.516832Z"
    },
    "executionInfo": {
     "elapsed": 828,
     "status": "ok",
     "timestamp": 1731233932034,
     "user": {
      "displayName": "Abdelrhman Ashraf",
      "userId": "11249532378747886614"
     },
     "user_tz": -120
    },
    "id": "YnL7lnOQiJeM",
    "jupyter": {
     "outputs_hidden": false
    },
    "outputId": "e94a9318-e02a-47a9-b1fe-3af145637ae6",
    "papermill": {
     "duration": 2.082833,
     "end_time": "2024-11-12T07:52:28.520195",
     "exception": false,
     "start_time": "2024-11-12T07:52:26.437362",
     "status": "completed"
    },
    "tags": []
   },
   "outputs": [
    {
     "name": "stdout",
     "output_type": "stream",
     "text": [
      "torch.Size([128, 18])\n",
      "torch.Size([128, 15])\n"
     ]
    }
   ],
   "source": [
    "mycollate = MYCollate(batch_first=True, pad_value=0)\n",
    "pin_memory = True if device == 'cuda' else False\n",
    "num_workers = 4 if isKaggle else 2\n",
    "\n",
    "train_loader = DataLoader(train_ds, batch_size=batch_size, shuffle=True,\n",
    "                          collate_fn=mycollate, num_workers=num_workers,\n",
    "                          generator=g, pin_memory=pin_memory)\n",
    "\n",
    "valid_loader = DataLoader(valid_ds, batch_size=batch_size, shuffle=False,\n",
    "                          collate_fn=mycollate, num_workers=num_workers,\n",
    "                          generator=g, pin_memory=pin_memory)\n",
    "\n",
    "test_loader = DataLoader(test_ds, batch_size=batch_size, shuffle=False,\n",
    "                         collate_fn=mycollate, num_workers=num_workers,\n",
    "                         generator=g, pin_memory=pin_memory)\n",
    "\n",
    "for x, y in train_loader:\n",
    "    print(x.shape)\n",
    "    print(y.shape)\n",
    "    break"
   ]
  },
  {
   "cell_type": "markdown",
   "id": "c3f62a21",
   "metadata": {
    "_cell_guid": "a817db50-1bc3-42ff-81bc-1a9344854d0a",
    "_uuid": "eb280099-6497-412f-bd28-dce39f6172ef",
    "collapsed": false,
    "id": "AHHg7lo7ioRi",
    "jupyter": {
     "outputs_hidden": false
    },
    "papermill": {
     "duration": 0.021785,
     "end_time": "2024-11-12T07:52:28.564047",
     "exception": false,
     "start_time": "2024-11-12T07:52:28.542262",
     "status": "completed"
    },
    "tags": []
   },
   "source": [
    "## Form Embedding matrices"
   ]
  },
  {
   "cell_type": "markdown",
   "id": "071c2cb3",
   "metadata": {
    "_cell_guid": "5cc6b90b-3f42-4ec1-9929-e11cab7728dc",
    "_uuid": "d75f3d3e-6988-4a11-8ffc-f95dabab89b7",
    "collapsed": false,
    "id": "19wgB5jtiwmR",
    "jupyter": {
     "outputs_hidden": false
    },
    "papermill": {
     "duration": 0.02141,
     "end_time": "2024-11-12T07:52:28.607400",
     "exception": false,
     "start_time": "2024-11-12T07:52:28.585990",
     "status": "completed"
    },
    "tags": []
   },
   "source": [
    "### Ar."
   ]
  },
  {
   "cell_type": "code",
   "execution_count": 26,
   "id": "6fd26686",
   "metadata": {
    "_cell_guid": "57659a37-f1a4-4d5b-8dc3-fcb0dcc17062",
    "_uuid": "c05ba1a3-c973-4e3f-beaf-6b33de3d1b03",
    "collapsed": false,
    "execution": {
     "iopub.execute_input": "2024-11-12T07:52:28.652749Z",
     "iopub.status.busy": "2024-11-12T07:52:28.651799Z",
     "iopub.status.idle": "2024-11-12T07:52:28.767905Z",
     "shell.execute_reply": "2024-11-12T07:52:28.767104Z"
    },
    "executionInfo": {
     "elapsed": 5,
     "status": "ok",
     "timestamp": 1731233932034,
     "user": {
      "displayName": "Abdelrhman Ashraf",
      "userId": "11249532378747886614"
     },
     "user_tz": -120
    },
    "id": "B2KiRkeUioIm",
    "jupyter": {
     "outputs_hidden": false
    },
    "papermill": {
     "duration": 0.141178,
     "end_time": "2024-11-12T07:52:28.770145",
     "exception": false,
     "start_time": "2024-11-12T07:52:28.628967",
     "status": "completed"
    },
    "tags": []
   },
   "outputs": [],
   "source": [
    "ar_embedding_matrix = torch.rand((len(ar_vocab), embd_features))"
   ]
  },
  {
   "cell_type": "markdown",
   "id": "6755ef78",
   "metadata": {
    "_cell_guid": "dc32ef97-4bdf-4326-9c1e-041d530de0ff",
    "_uuid": "c7b73bf9-ecda-4be5-882c-7ed91a0a6bdf",
    "collapsed": false,
    "id": "HTLciTVMiyiC",
    "jupyter": {
     "outputs_hidden": false
    },
    "papermill": {
     "duration": 0.021662,
     "end_time": "2024-11-12T07:52:28.813968",
     "exception": false,
     "start_time": "2024-11-12T07:52:28.792306",
     "status": "completed"
    },
    "tags": []
   },
   "source": [
    "### En."
   ]
  },
  {
   "cell_type": "code",
   "execution_count": 27,
   "id": "fde43b02",
   "metadata": {
    "execution": {
     "iopub.execute_input": "2024-11-12T07:52:28.859733Z",
     "iopub.status.busy": "2024-11-12T07:52:28.858957Z",
     "iopub.status.idle": "2024-11-12T07:52:28.913106Z",
     "shell.execute_reply": "2024-11-12T07:52:28.912305Z"
    },
    "papermill": {
     "duration": 0.079017,
     "end_time": "2024-11-12T07:52:28.915230",
     "exception": false,
     "start_time": "2024-11-12T07:52:28.836213",
     "status": "completed"
    },
    "tags": []
   },
   "outputs": [],
   "source": [
    "en_embedding_matrix = torch.rand((len(en_vocab), embd_features))"
   ]
  },
  {
   "cell_type": "code",
   "execution_count": 28,
   "id": "ba699a42",
   "metadata": {
    "_cell_guid": "7a924a18-13e3-4032-9643-de520b116fd9",
    "_uuid": "02e9e880-3a98-46a7-946a-d23d8567728e",
    "collapsed": false,
    "execution": {
     "iopub.execute_input": "2024-11-12T07:52:28.960463Z",
     "iopub.status.busy": "2024-11-12T07:52:28.959868Z",
     "iopub.status.idle": "2024-11-12T07:52:28.964050Z",
     "shell.execute_reply": "2024-11-12T07:52:28.963138Z"
    },
    "executionInfo": {
     "elapsed": 163275,
     "status": "ok",
     "timestamp": 1731234095305,
     "user": {
      "displayName": "Abdelrhman Ashraf",
      "userId": "11249532378747886614"
     },
     "user_tz": -120
    },
    "id": "uNLla5SVin7S",
    "jupyter": {
     "outputs_hidden": false
    },
    "outputId": "bba535e6-a616-46fa-caee-cfe9697bb9c0",
    "papermill": {
     "duration": 0.029017,
     "end_time": "2024-11-12T07:52:28.965934",
     "exception": false,
     "start_time": "2024-11-12T07:52:28.936917",
     "status": "completed"
    },
    "tags": []
   },
   "outputs": [],
   "source": [
    "# !wget https://nlp.stanford.edu/data/glove.6B.zip\n",
    "\n",
    "# with ZipFile(f'{base_dir}/glove.6B.zip') as file:\n",
    "#     file.extract('glove.6B.100d.txt')"
   ]
  },
  {
   "cell_type": "code",
   "execution_count": 29,
   "id": "0a1688c0",
   "metadata": {
    "_cell_guid": "35254387-29e7-4d9a-8df1-b487dbb8a5cb",
    "_uuid": "4cf53f0b-d2c3-43a8-b4b2-2773ecce4169",
    "collapsed": false,
    "execution": {
     "iopub.execute_input": "2024-11-12T07:52:29.011977Z",
     "iopub.status.busy": "2024-11-12T07:52:29.011168Z",
     "iopub.status.idle": "2024-11-12T07:52:29.016367Z",
     "shell.execute_reply": "2024-11-12T07:52:29.015547Z"
    },
    "executionInfo": {
     "elapsed": 4732,
     "status": "ok",
     "timestamp": 1731234100034,
     "user": {
      "displayName": "Abdelrhman Ashraf",
      "userId": "11249532378747886614"
     },
     "user_tz": -120
    },
    "id": "er-PzgMCin4-",
    "jupyter": {
     "outputs_hidden": false
    },
    "outputId": "c586fe92-fe2b-4175-d356-1f6a92071b75",
    "papermill": {
     "duration": 0.030343,
     "end_time": "2024-11-12T07:52:29.018341",
     "exception": false,
     "start_time": "2024-11-12T07:52:28.987998",
     "status": "completed"
    },
    "tags": []
   },
   "outputs": [],
   "source": [
    "# # form an embedding matrix form glove pre-trained embedding weights for my vocab\n",
    "# glove_embeddings_index = dict()\n",
    "# en_embedding_matrix = torch.rand((len(en_vocab), embd_features))*0.1\n",
    "# vocab_dict = en_vocab.get_vocabulary()\n",
    "# found = 0\n",
    "\n",
    "# with open('glove.6B.100d.txt') as f:\n",
    "#     for line in f:\n",
    "#         values = line.split()\n",
    "#         word = values[0]\n",
    "\n",
    "#         # token = word_tokenizer.word_tokenizing(word, stemming=False)\n",
    "#         token = word\n",
    "#         if token:\n",
    "#             # print(word)\n",
    "#             idx = vocab_dict.get(token, 0)\n",
    "#             if idx:\n",
    "#                 found += 1\n",
    "#                 coefs = torch.tensor([float(value) for value in values[1:]])\n",
    "#                 en_embedding_matrix[idx] = coefs\n",
    "#                 # glove_embeddings_index[word] = coefs\n",
    "\n",
    "# print('Found %s words.' % found)\n",
    "# print(\"Embedding matrix shape: \", en_embedding_matrix.shape)\n"
   ]
  },
  {
   "cell_type": "code",
   "execution_count": 30,
   "id": "6b772aaf",
   "metadata": {
    "_cell_guid": "5e0d0e86-e19b-4437-9688-ea151c2e7a91",
    "_uuid": "ecda150d-f859-41d6-9ebc-059ea8634b68",
    "collapsed": false,
    "execution": {
     "iopub.execute_input": "2024-11-12T07:52:29.063498Z",
     "iopub.status.busy": "2024-11-12T07:52:29.063163Z",
     "iopub.status.idle": "2024-11-12T07:52:30.635302Z",
     "shell.execute_reply": "2024-11-12T07:52:30.634279Z"
    },
    "executionInfo": {
     "elapsed": 261,
     "status": "ok",
     "timestamp": 1731234100289,
     "user": {
      "displayName": "Abdelrhman Ashraf",
      "userId": "11249532378747886614"
     },
     "user_tz": -120
    },
    "id": "5A4dFwe6inte",
    "jupyter": {
     "outputs_hidden": false
    },
    "outputId": "edeceb73-d326-4ce3-dfef-80d0764bb5e4",
    "papermill": {
     "duration": 1.59755,
     "end_time": "2024-11-12T07:52:30.637665",
     "exception": false,
     "start_time": "2024-11-12T07:52:29.040115",
     "status": "completed"
    },
    "tags": []
   },
   "outputs": [
    {
     "name": "stdout",
     "output_type": "stream",
     "text": [
      "Before Embedding layer\t\ttorch.Size([128, 17])\t\ttorch.Size([128, 15])\n",
      "After Embedding layer\t\ttorch.Size([128, 17, 200])\ttorch.Size([128, 15, 200])\n"
     ]
    }
   ],
   "source": [
    "for x, y in test_loader:\n",
    "    print('Before Embedding layer', x.shape, y.shape, sep='\\t\\t')\n",
    "    en_emb = en_embedding_matrix[x]\n",
    "    ar_emb = ar_embedding_matrix[y]\n",
    "    print('After Embedding layer\\t', en_emb.shape, ar_emb.shape, sep='\\t')\n",
    "    break"
   ]
  },
  {
   "cell_type": "markdown",
   "id": "7e7d5233",
   "metadata": {
    "_cell_guid": "8934e170-4176-41b6-922d-c7b143f173fd",
    "_uuid": "c5dfbf25-e82c-4d5a-9e2d-fb1a3c08fa5c",
    "collapsed": false,
    "id": "jdDsKs2rne2H",
    "jupyter": {
     "outputs_hidden": false
    },
    "papermill": {
     "duration": 0.021997,
     "end_time": "2024-11-12T07:52:30.682623",
     "exception": false,
     "start_time": "2024-11-12T07:52:30.660626",
     "status": "completed"
    },
    "tags": []
   },
   "source": [
    "## Models: Defining, Training and Evaluation"
   ]
  },
  {
   "cell_type": "code",
   "execution_count": 31,
   "id": "deed5091",
   "metadata": {
    "_cell_guid": "0e1ca778-cb8c-42ac-9d11-6e79543ca0cf",
    "_uuid": "c5f7431f-fb18-4a2b-9bda-edadbab27db2",
    "collapsed": false,
    "execution": {
     "iopub.execute_input": "2024-11-12T07:52:30.729145Z",
     "iopub.status.busy": "2024-11-12T07:52:30.728764Z",
     "iopub.status.idle": "2024-11-12T07:52:30.757734Z",
     "shell.execute_reply": "2024-11-12T07:52:30.756779Z"
    },
    "executionInfo": {
     "elapsed": 282,
     "status": "ok",
     "timestamp": 1731243010208,
     "user": {
      "displayName": "Abdelrhman Ashraf",
      "userId": "11249532378747886614"
     },
     "user_tz": -120
    },
    "id": "7Ongp0CUnzNG",
    "jupyter": {
     "outputs_hidden": false
    },
    "papermill": {
     "duration": 0.054617,
     "end_time": "2024-11-12T07:52:30.759597",
     "exception": false,
     "start_time": "2024-11-12T07:52:30.704980",
     "status": "completed"
    },
    "tags": []
   },
   "outputs": [],
   "source": [
    "class Encoder(nn.Module):\n",
    "    def __init__(self, embd_matrix:torch.Tensor, pretrained:bool, lstm_hidden_size, lstm_layers=1, dropout_probability=0.1):\n",
    "        super().__init__()\n",
    "        self.hidden_size = lstm_hidden_size\n",
    "        self.lstm_layers = lstm_layers\n",
    "        self.input_size = embd_matrix.size(-1)\n",
    "        self.embd_layer = nn.Embedding.from_pretrained(embd_matrix, freeze=False) if pretrained else nn.Embedding(embd_matrix.size(0), embd_matrix.size(1))\n",
    "\n",
    "        self.dropout = nn.Dropout(dropout_probability)\n",
    "        self.gru = nn.GRU(self.input_size, self.hidden_size, self.lstm_layers, dropout=dropout_probability, batch_first=True, bidirectional=True)\n",
    "        self.fc = nn.Linear(lstm_hidden_size * 2, lstm_hidden_size)\n",
    "\n",
    "    def forward(self, x):\n",
    "        embds = self.dropout(self.embd_layer(x))\n",
    "        output, hidden = self.gru(embds)\n",
    "        # hidden [-2, :, : ] is the last of the forwards RNN\n",
    "        # hidden [-1, :, : ] is the last of the backwards RNN\n",
    "        # all_hidden = hidden\n",
    "        hidden = torch.cat([hidden[-2,:,:], hidden[-1,:,:]], dim=1)\n",
    "        hidden = torch.tanh(self.fc(hidden))\n",
    "\n",
    "        return output, hidden\n",
    "\n",
    "########################--------------------##################################\n",
    "class Attention(nn.Module):\n",
    "    def __init__(self, encoder_hidden_dim, decoder_hidden_dim):\n",
    "        super().__init__()\n",
    "        self.attn_fc = nn.Linear((encoder_hidden_dim * 2) + decoder_hidden_dim, decoder_hidden_dim)\n",
    "        self.v_fc = nn.Linear(decoder_hidden_dim, 1, bias=False)\n",
    "\n",
    "    def forward(self, hidden, encoder_outputs):\n",
    "        # hidden = [batch size, decoder hidden dim]\n",
    "        # encoder_outputs = [src length, batch size, encoder hidden dim * 2]\n",
    "        batch_size = encoder_outputs.shape[0]\n",
    "        src_length = encoder_outputs.shape[1]\n",
    "        # repeat decoder hidden state src_length times\n",
    "        hidden = hidden.unsqueeze(1).repeat(1, src_length, 1)\n",
    "        # hidden = [batch size, src length, decoder hidden dim]\n",
    "        # encoder_outputs = [batch size, src length, encoder hidden dim * 2]\n",
    "        pre_energy = torch.cat((hidden, encoder_outputs), dim=2)\n",
    "        energy = torch.tanh(self.attn_fc(pre_energy))\n",
    "        \n",
    "        # energy = [batch size, src length, decoder hidden dim]\n",
    "        attention = self.v_fc(energy).squeeze(2)\n",
    "        # attention = [batch size, src length]\n",
    "        return torch.softmax(attention, dim=1)\n",
    "\n",
    "########################--------------------##################################\n",
    "class Decoder(nn.Module):\n",
    "    def __init__(self, embd_matrix:torch.Tensor, pretrained:bool, attention:Attention, lstm_hidden_size, lstm_layers=1, dropout_probability=0):\n",
    "        super().__init__()\n",
    "        self.hidden_size = lstm_hidden_size\n",
    "        self.lstm_layers = lstm_layers\n",
    "        self.input_size = embd_matrix.size(-1)\n",
    "        self.embd_layer = nn.Embedding.from_pretrained(embd_matrix, freeze=False) if pretrained else nn.Embedding(embd_matrix.size(0), embd_matrix.size(1))\n",
    "        self.attention = attention\n",
    "\n",
    "        self.dropout = nn.Dropout(dropout_probability)\n",
    "        self.gru = nn.GRU((lstm_hidden_size * 2) + self.input_size, self.hidden_size, self.lstm_layers, dropout=dropout_probability, batch_first=True)\n",
    "        self.fc_out = nn.Linear(self.hidden_size, embd_matrix.size(0))\n",
    "        \n",
    "    def forward(self, x, hidden_t_1, encoder_outputs):\n",
    "        embds = self.dropout(self.embd_layer(x))\n",
    "        a = self.attention(hidden_t_1, encoder_outputs)\n",
    "        a = a.unsqueeze(1)\n",
    "        weighted = torch.bmm(a, encoder_outputs)\n",
    "        rnn_input = torch.cat((embds, weighted), dim=2)\n",
    "\n",
    "        output, hidden_t = self.gru(rnn_input, hidden_t_1.unsqueeze(0))\n",
    "        # embds = embds.squeeze(1)\n",
    "        output = output.squeeze(1)\n",
    "        # weighted = weighted.squeeze(1)\n",
    "        # all_in_one = torch.cat((output, weighted, embds), dim=1)\n",
    "        # prediction = self.fc_out(all_in_one)\n",
    "        prediction = self.fc_out(output)\n",
    "        \n",
    "        return prediction, hidden_t.squeeze(0), a.squeeze(1)\n",
    "\n",
    "\n",
    "########################--------------------##################################\n",
    "class Seq2seq_with_attention(nn.Module):\n",
    "    def __init__(self, encoder:Encoder, decoder:Decoder):\n",
    "        super(Seq2seq_with_attention, self).__init__()\n",
    "\n",
    "        self.decoder_vocab_size = decoder.embd_layer.weight.size(0)\n",
    "        self.encoder = encoder\n",
    "        self.decoder = decoder\n",
    "\n",
    "    def forward(self, source, target, teacher_force_ratio=0.5):\n",
    "\n",
    "        batch_size, seq_len = target.size()\n",
    "\n",
    "        total_outputs = torch.zeros(batch_size, seq_len, self.decoder_vocab_size, device=source.device)\n",
    "\n",
    "        encoder_outputs, hidden = self.encoder(source)\n",
    "\n",
    "        x = target[:, [0]]\n",
    "        for step in range(1, seq_len):\n",
    "            logits, hidden, _ = self.decoder(x, hidden, encoder_outputs)\n",
    "            \n",
    "            total_outputs[:, step] = logits\n",
    "            top1 = logits.argmax(1, keepdim=True)\n",
    "            x = target[:, [step]] if teacher_force_ratio > random.random() else top1\n",
    "\n",
    "        return total_outputs\n",
    "\n",
    "    @torch.no_grad\n",
    "    def translate(self, source:torch.Tensor, max_tries=50):\n",
    "        output = [2] ## <SOS> token\n",
    "\n",
    "        targets = torch.randint(0,1,(source.size(0), max_tries)).to(device=source.device)\n",
    "        targets_hat = self.forward(source, targets, 0.0)\n",
    "        targets_hat = targets_hat.argmax(-1).squeeze(0)\n",
    "        for token in targets_hat[1:]:\n",
    "            output.append(token.item())\n",
    "            if token == 3:\n",
    "                break\n",
    "\n",
    "        return output"
   ]
  },
  {
   "cell_type": "code",
   "execution_count": 32,
   "id": "4ff7b618",
   "metadata": {
    "_cell_guid": "83ff9ba2-424f-4099-aa64-3fe48dfc6371",
    "_uuid": "54389c38-3b2c-4856-9950-25cf7b27fcdb",
    "collapsed": false,
    "execution": {
     "iopub.execute_input": "2024-11-12T07:52:30.805467Z",
     "iopub.status.busy": "2024-11-12T07:52:30.805063Z",
     "iopub.status.idle": "2024-11-12T07:52:30.815470Z",
     "shell.execute_reply": "2024-11-12T07:52:30.814557Z"
    },
    "executionInfo": {
     "elapsed": 266,
     "status": "ok",
     "timestamp": 1731242572842,
     "user": {
      "displayName": "Abdelrhman Ashraf",
      "userId": "11249532378747886614"
     },
     "user_tz": -120
    },
    "id": "ofJbaxvAnqlm",
    "jupyter": {
     "outputs_hidden": false
    },
    "papermill": {
     "duration": 0.03551,
     "end_time": "2024-11-12T07:52:30.817355",
     "exception": false,
     "start_time": "2024-11-12T07:52:30.781845",
     "status": "completed"
    },
    "tags": []
   },
   "outputs": [],
   "source": [
    "## Helper\n",
    "@torch.no_grad()\n",
    "def loss_acc_loader(model, data_loader, device, force=0.5):\n",
    "    model.eval()\n",
    "\n",
    "    total_predicts = []\n",
    "    total_targets = []\n",
    "    total_class_loss = 0\n",
    "\n",
    "    for data, labels in data_loader:\n",
    "        data = data.to(device)\n",
    "        labels = labels.to(device)\n",
    "\n",
    "        class_logits = model(data, labels, force)\n",
    "        class_logits_flat = class_logits[:, 1:, :].reshape(-1, class_logits.size(-1))\n",
    "        labels_flat = labels[:, 1:].reshape(-1)\n",
    "\n",
    "        total_class_loss += class_criterion(class_logits_flat, labels_flat).item()\n",
    "\n",
    "        predictions = class_logits_flat.argmax(-1)\n",
    "        non_pad_mask = labels_flat != 0\n",
    "        filtered_predictions = predictions[non_pad_mask]\n",
    "        filtered_labels = labels_flat[non_pad_mask]\n",
    "\n",
    "        total_predicts.append(filtered_predictions)\n",
    "        total_targets.append(filtered_labels)\n",
    "\n",
    "    total_predicts = torch.concat(total_predicts)\n",
    "    total_targets = torch.concat(total_targets)\n",
    "\n",
    "    avg_class_loss = total_class_loss / len(data_loader)\n",
    "    accuracy = (total_predicts == total_targets).float().mean().item()\n",
    "\n",
    "    return avg_class_loss, accuracy, total_predicts, total_targets\n",
    "\n",
    "\n",
    "def get_parameters_info(model):\n",
    "    trainable = sum(p.numel() for p in model.parameters() if p.requires_grad==True)\n",
    "    nontrainable = sum(p.numel() for p in model.parameters() if p.requires_grad==False)\n",
    "\n",
    "    return trainable, nontrainable"
   ]
  },
  {
   "cell_type": "code",
   "execution_count": 33,
   "id": "de4ca866",
   "metadata": {
    "_cell_guid": "9ce859d3-2a47-4e02-b39c-49f7e4620838",
    "_uuid": "f76d300d-abc8-40eb-a742-2705933799de",
    "collapsed": false,
    "execution": {
     "iopub.execute_input": "2024-11-12T07:52:30.862641Z",
     "iopub.status.busy": "2024-11-12T07:52:30.862224Z",
     "iopub.status.idle": "2024-11-12T07:52:32.287429Z",
     "shell.execute_reply": "2024-11-12T07:52:32.286644Z"
    },
    "executionInfo": {
     "elapsed": 373,
     "status": "ok",
     "timestamp": 1731244140261,
     "user": {
      "displayName": "Abdelrhman Ashraf",
      "userId": "11249532378747886614"
     },
     "user_tz": -120
    },
    "id": "LqquDrUDoVzF",
    "jupyter": {
     "outputs_hidden": false
    },
    "outputId": "7159acf6-c1be-4cc4-c261-d8f7a8e00259",
    "papermill": {
     "duration": 1.450147,
     "end_time": "2024-11-12T07:52:32.289650",
     "exception": false,
     "start_time": "2024-11-12T07:52:30.839503",
     "status": "completed"
    },
    "tags": []
   },
   "outputs": [
    {
     "name": "stdout",
     "output_type": "stream",
     "text": [
      "Total trainable parameters = 42655823\n",
      "Total non-trainable parameters = 0\n"
     ]
    }
   ],
   "source": [
    "encoder = Encoder(en_embedding_matrix, False, lstm_hidden_size, lstm_layers, dropout_p).to(device)\n",
    "attention = Attention(lstm_hidden_size,lstm_hidden_size)\n",
    "decoder = Decoder(ar_embedding_matrix, False, attention, lstm_hidden_size, 1).to(device)\n",
    "seq2seq = Seq2seq_with_attention(encoder, decoder).to(device)\n",
    "\n",
    "tr, nontr = get_parameters_info(seq2seq)\n",
    "print(f\"Total trainable parameters = {tr}\\nTotal non-trainable parameters = {nontr}\")\n",
    "\n",
    "class_criterion = nn.CrossEntropyLoss(ignore_index=0)  # Classification loss\n",
    "\n",
    "optim = torch.optim.Adam(seq2seq.parameters(), lr)\n",
    "scheduler = torch.optim.lr_scheduler.ReduceLROnPlateau(optimizer=optim, mode='min', factor=0.5,\n",
    "                                                       patience=4, min_lr=1e-5, threshold=0.001)\n"
   ]
  },
  {
   "cell_type": "markdown",
   "id": "32b68b11",
   "metadata": {
    "_cell_guid": "9b1b9af2-f4b6-475a-9344-52ac5c090f8c",
    "_uuid": "a26a7d97-7db7-4da3-a904-13ca126d615a",
    "collapsed": false,
    "id": "W2Fux31-Lqbc",
    "jupyter": {
     "outputs_hidden": false
    },
    "papermill": {
     "duration": 0.021503,
     "end_time": "2024-11-12T07:52:32.333397",
     "exception": false,
     "start_time": "2024-11-12T07:52:32.311894",
     "status": "completed"
    },
    "tags": []
   },
   "source": [
    "### Training loop"
   ]
  },
  {
   "cell_type": "code",
   "execution_count": 34,
   "id": "ff1ee245",
   "metadata": {
    "_cell_guid": "bb8befcd-46a7-4d65-b6f1-131765ca660e",
    "_uuid": "61512162-89c4-405b-ae55-98b944027795",
    "collapsed": false,
    "execution": {
     "iopub.execute_input": "2024-11-12T07:52:32.381226Z",
     "iopub.status.busy": "2024-11-12T07:52:32.380312Z",
     "iopub.status.idle": "2024-11-12T07:52:32.385997Z",
     "shell.execute_reply": "2024-11-12T07:52:32.385070Z"
    },
    "id": "hkLo26GQLs-h",
    "jupyter": {
     "outputs_hidden": false
    },
    "outputId": "b260f65b-7cd0-40ce-962c-792fe01b847f",
    "papermill": {
     "duration": 0.032131,
     "end_time": "2024-11-12T07:52:32.388026",
     "exception": false,
     "start_time": "2024-11-12T07:52:32.355895",
     "status": "completed"
    },
    "tags": []
   },
   "outputs": [],
   "source": [
    "# ## overfit one-batch\n",
    "\n",
    "# x_batch, y_batch = next(iter(train_loader))\n",
    "# data = x_batch.to(device)\n",
    "# labels = y_batch.to(device)\n",
    "# epochs = 2000\n",
    "# for epoch in range(epochs):\n",
    "\n",
    "#     class_logits = seq2seq(data, labels)\n",
    "\n",
    "#     class_logits_flat = class_logits[:, 1:, :].reshape(-1, class_logits.size(-1))\n",
    "#     labels_flat = labels[:, 1:].reshape(-1)\n",
    "#     loss = class_criterion(class_logits_flat, labels_flat)\n",
    "\n",
    "\n",
    "#     optim.zero_grad()\n",
    "#     loss.backward()\n",
    "#     optim.step()\n",
    "\n",
    "#     predictions = class_logits_flat.argmax(-1)\n",
    "\n",
    "#     non_pad_mask = labels_flat != 0\n",
    "#     filtered_predictions = predictions[non_pad_mask]\n",
    "#     filtered_labels = labels_flat[non_pad_mask]\n",
    "\n",
    "#     if (epoch+1) % 100 == 0:\n",
    "#         print(f'Epoch {epoch+1}/{epochs}: ', end='\\t')\n",
    "#         print(f'Loss = {loss.item():.2f}', f'Accuracy = {(filtered_predictions==filtered_labels).sum()}/{filtered_predictions.size(0)}')\n"
   ]
  },
  {
   "cell_type": "code",
   "execution_count": 35,
   "id": "97fe7000",
   "metadata": {
    "_cell_guid": "bb8befcd-46a7-4d65-b6f1-131765ca660e",
    "_uuid": "61512162-89c4-405b-ae55-98b944027795",
    "collapsed": false,
    "execution": {
     "iopub.execute_input": "2024-11-12T07:52:32.432839Z",
     "iopub.status.busy": "2024-11-12T07:52:32.432496Z",
     "iopub.status.idle": "2024-11-12T07:52:32.436841Z",
     "shell.execute_reply": "2024-11-12T07:52:32.436039Z"
    },
    "id": "hkLo26GQLs-h",
    "jupyter": {
     "outputs_hidden": false
    },
    "outputId": "b260f65b-7cd0-40ce-962c-792fe01b847f",
    "papermill": {
     "duration": 0.029115,
     "end_time": "2024-11-12T07:52:32.438741",
     "exception": false,
     "start_time": "2024-11-12T07:52:32.409626",
     "status": "completed"
    },
    "tags": []
   },
   "outputs": [],
   "source": [
    "epochs = 5"
   ]
  },
  {
   "cell_type": "code",
   "execution_count": 36,
   "id": "ad82ee07",
   "metadata": {
    "_cell_guid": "2259b2ba-27bd-456f-8306-452d326903a9",
    "_uuid": "cc50041b-b460-4312-9afd-57997d737e8b",
    "collapsed": false,
    "execution": {
     "iopub.execute_input": "2024-11-12T07:52:32.483777Z",
     "iopub.status.busy": "2024-11-12T07:52:32.483414Z",
     "iopub.status.idle": "2024-11-12T08:45:27.058053Z",
     "shell.execute_reply": "2024-11-12T08:45:27.056752Z"
    },
    "executionInfo": {
     "elapsed": 48635,
     "status": "error",
     "timestamp": 1731243891889,
     "user": {
      "displayName": "Abdelrhman Ashraf",
      "userId": "11249532378747886614"
     },
     "user_tz": -120
    },
    "id": "O5-7kPlBo0fQ",
    "jupyter": {
     "outputs_hidden": false
    },
    "outputId": "9a36329a-8f7f-4817-d054-29ab0a23d74a",
    "papermill": {
     "duration": 3178.140258,
     "end_time": "2024-11-12T08:45:30.600857",
     "exception": false,
     "start_time": "2024-11-12T07:52:32.460599",
     "status": "completed"
    },
    "tags": []
   },
   "outputs": [
    {
     "name": "stderr",
     "output_type": "stream",
     "text": [
      "Epoch [1/5]: 100%|██████████| 2921/2921 [09:08<00:00,  5.32it/s, loss = 6.0817]\n"
     ]
    },
    {
     "name": "stdout",
     "output_type": "stream",
     "text": [
      "Validation: Class Loss 5.2756, Accuracy 27.19%\n"
     ]
    },
    {
     "name": "stderr",
     "output_type": "stream",
     "text": [
      "Epoch [2/5]: 100%|██████████| 2921/2921 [09:08<00:00,  5.33it/s, loss = 5.2253]\n"
     ]
    },
    {
     "name": "stdout",
     "output_type": "stream",
     "text": [
      "Validation: Class Loss 4.9213, Accuracy 29.23%\n"
     ]
    },
    {
     "name": "stderr",
     "output_type": "stream",
     "text": [
      "Epoch [3/5]: 100%|██████████| 2921/2921 [09:09<00:00,  5.32it/s, loss = 4.8489]\n"
     ]
    },
    {
     "name": "stdout",
     "output_type": "stream",
     "text": [
      "Validation: Class Loss 4.7839, Accuracy 30.26%\n"
     ]
    },
    {
     "name": "stderr",
     "output_type": "stream",
     "text": [
      "Epoch [4/5]: 100%|██████████| 2921/2921 [09:08<00:00,  5.33it/s, loss = 4.5943]\n"
     ]
    },
    {
     "name": "stdout",
     "output_type": "stream",
     "text": [
      "Validation: Class Loss 4.7133, Accuracy 30.75%\n"
     ]
    },
    {
     "name": "stderr",
     "output_type": "stream",
     "text": [
      "Epoch [5/5]: 100%|██████████| 2921/2921 [09:08<00:00,  5.32it/s, loss = 4.3978]\n"
     ]
    },
    {
     "name": "stdout",
     "output_type": "stream",
     "text": [
      "Validation: Class Loss 4.6777, Accuracy 31.12%\n"
     ]
    }
   ],
   "source": [
    "total_batches = len(train_loader)\n",
    "train_class_losses = []\n",
    "val_class_losses = []\n",
    "teacher_force = 0.5\n",
    "\n",
    "for epoch in range(epochs):\n",
    "    seq2seq.train()  # Set the model to training mode\n",
    "    epoch_losses = []\n",
    "\n",
    "    tqdm_loop = tqdm(enumerate(train_loader), total=total_batches, position=0)\n",
    "    for batch_idx, (data, labels) in tqdm_loop:\n",
    "        # Get data\n",
    "        data = data.to(device)\n",
    "        labels = labels.to(device)\n",
    "        # Forward\n",
    "        class_logits = seq2seq(data, labels, teacher_force)\n",
    "\n",
    "        class_logits_flat = class_logits[:, 1:, :].reshape(-1, class_logits.size(-1))\n",
    "        labels_flat = labels[:, 1:].reshape(-1)\n",
    "        loss = class_criterion(class_logits_flat, labels_flat)\n",
    "\n",
    "        epoch_losses.append(loss.item())\n",
    "        mean_epoch_loss = sum(epoch_losses)/len(epoch_losses)\n",
    "        \n",
    "        # Backward\n",
    "        optim.zero_grad()\n",
    "        loss.backward()\n",
    "        nn.utils.clip_grad_norm_(seq2seq.parameters(), max_norm=1)\n",
    "        optim.step()\n",
    "        # Update progress bar\n",
    "        tqdm_loop.set_description(f\"Epoch [{epoch+1}/{epochs}]\")\n",
    "        tqdm_loop.set_postfix_str(f'loss = {round(mean_epoch_loss, 4)}')\n",
    "\n",
    "    train_class_losses.append(mean_epoch_loss)\n",
    "\n",
    "    val_class_loss, val_accuracy, _, _ = loss_acc_loader(seq2seq, valid_loader, device, force=teacher_force)\n",
    "    val_class_losses.append(val_class_loss)\n",
    "    print(f'Validation: Class Loss {val_class_loss:.4f}, Accuracy {val_accuracy*100:.2f}%')\n",
    "\n",
    "    # Get the current learning rate from the optimizer\n",
    "    current_lr = optim.param_groups[0]['lr']\n",
    "    \n",
    "    # Step the scheduler with the validation loss\n",
    "    scheduler.step(val_class_loss)\n",
    "    \n",
    "    # Check if the learning rate has changed\n",
    "    new_lr = optim.param_groups[0]['lr']\n",
    "    if new_lr < current_lr:\n",
    "        print(f\"Epoch {epoch + 1}: Reducing learning rate from {current_lr:.6f} to {new_lr:.6f}\")"
   ]
  },
  {
   "cell_type": "code",
   "execution_count": 37,
   "id": "af398c6d",
   "metadata": {
    "execution": {
     "iopub.execute_input": "2024-11-12T08:45:37.800000Z",
     "iopub.status.busy": "2024-11-12T08:45:37.798945Z",
     "iopub.status.idle": "2024-11-12T08:45:37.804427Z",
     "shell.execute_reply": "2024-11-12T08:45:37.803487Z"
    },
    "papermill": {
     "duration": 3.608922,
     "end_time": "2024-11-12T08:45:37.806379",
     "exception": false,
     "start_time": "2024-11-12T08:45:34.197457",
     "status": "completed"
    },
    "tags": []
   },
   "outputs": [],
   "source": [
    "#     if valid_loss < best_loss:\n",
    "#         best_loss, best_epoch = valid_loss, epoch\n",
    "#         torch.save(model.state_dict(), 'model.pt')\n",
    "#         early_stop_counter = 0\n",
    "#     else:\n",
    "#         early_stop_counter += 1\n",
    "#         if early_stop_counter >= PATIENCE:\n",
    "#             print(f'Early stopping after epoch {epoch+1}: no improvement for {PATIENCE} epochs.')\n",
    "#             break\n",
    "\n",
    "# if early_stop_counter < PATIENCE:\n",
    "#     print(f'Best validation loss of {best_loss:.3f} at epoch {best_epoch+1}.')"
   ]
  },
  {
   "cell_type": "code",
   "execution_count": 38,
   "id": "0698d898",
   "metadata": {
    "execution": {
     "iopub.execute_input": "2024-11-12T08:45:44.971724Z",
     "iopub.status.busy": "2024-11-12T08:45:44.971305Z",
     "iopub.status.idle": "2024-11-12T08:45:45.210198Z",
     "shell.execute_reply": "2024-11-12T08:45:45.209268Z"
    },
    "papermill": {
     "duration": 3.884389,
     "end_time": "2024-11-12T08:45:45.212155",
     "exception": false,
     "start_time": "2024-11-12T08:45:41.327766",
     "status": "completed"
    },
    "tags": []
   },
   "outputs": [
    {
     "data": {
      "image/png": "[encoded data removed]",
      "text/plain": [
       "<Figure size 800x300 with 1 Axes>"
      ]
     },
     "metadata": {},
     "output_type": "display_data"
    }
   ],
   "source": [
    "plt.figure(figsize=(8, 3))\n",
    "plt.plot(\n",
    "    [ep + 1 for ep in range(len(train_class_losses))],\n",
    "    train_class_losses, val_class_losses,)\n",
    "plt.xlabel(\"Epochs\")\n",
    "plt.ylabel(\"Loss\")\n",
    "plt.show()"
   ]
  },
  {
   "cell_type": "markdown",
   "id": "a262b862",
   "metadata": {
    "papermill": {
     "duration": 3.589986,
     "end_time": "2024-11-12T08:45:52.417249",
     "exception": false,
     "start_time": "2024-11-12T08:45:48.827263",
     "status": "completed"
    },
    "tags": []
   },
   "source": [
    "### Evaluation"
   ]
  },
  {
   "cell_type": "code",
   "execution_count": 39,
   "id": "9fc79d55",
   "metadata": {
    "execution": {
     "iopub.execute_input": "2024-11-12T08:45:59.516385Z",
     "iopub.status.busy": "2024-11-12T08:45:59.515586Z",
     "iopub.status.idle": "2024-11-12T08:47:25.626567Z",
     "shell.execute_reply": "2024-11-12T08:47:25.625388Z"
    },
    "papermill": {
     "duration": 93.28137,
     "end_time": "2024-11-12T08:47:29.282570",
     "exception": false,
     "start_time": "2024-11-12T08:45:56.001200",
     "status": "completed"
    },
    "tags": []
   },
   "outputs": [
    {
     "name": "stdout",
     "output_type": "stream",
     "text": [
      "Test: Class Loss 7.9169, Accuracy 12.02%\n"
     ]
    }
   ],
   "source": [
    "test_class_loss, test_accuracy, _, _ = loss_acc_loader(seq2seq, test_loader, device, force=0.5)\n",
    "\n",
    "print(f\"Test: Class Loss {test_class_loss:.4f}, Accuracy {test_accuracy*100:.2f}%\")"
   ]
  },
  {
   "cell_type": "code",
   "execution_count": 40,
   "id": "3b34312a",
   "metadata": {
    "execution": {
     "iopub.execute_input": "2024-11-12T08:47:36.440211Z",
     "iopub.status.busy": "2024-11-12T08:47:36.439786Z",
     "iopub.status.idle": "2024-11-12T08:49:00.376240Z",
     "shell.execute_reply": "2024-11-12T08:49:00.375068Z"
    },
    "papermill": {
     "duration": 91.099572,
     "end_time": "2024-11-12T08:49:04.003493",
     "exception": false,
     "start_time": "2024-11-12T08:47:32.903921",
     "status": "completed"
    },
    "tags": []
   },
   "outputs": [
    {
     "name": "stdout",
     "output_type": "stream",
     "text": [
      "Test: Class Loss 8.7059, Accuracy 10.42%\n"
     ]
    }
   ],
   "source": [
    "## With zero teacher_force\n",
    "test_class_loss, test_accuracy, _, _ = loss_acc_loader(seq2seq, test_loader, device, force=0.0)\n",
    "\n",
    "print(f\"Test: Class Loss {test_class_loss:.4f}, Accuracy {test_accuracy*100:.2f}%\")"
   ]
  },
  {
   "cell_type": "code",
   "execution_count": 41,
   "id": "97ec1f10",
   "metadata": {
    "execution": {
     "iopub.execute_input": "2024-11-12T08:49:11.175831Z",
     "iopub.status.busy": "2024-11-12T08:49:11.174765Z",
     "iopub.status.idle": "2024-11-12T08:49:11.243560Z",
     "shell.execute_reply": "2024-11-12T08:49:11.242353Z"
    },
    "papermill": {
     "duration": 3.646896,
     "end_time": "2024-11-12T08:49:11.245670",
     "exception": false,
     "start_time": "2024-11-12T08:49:07.598774",
     "status": "completed"
    },
    "tags": []
   },
   "outputs": [
    {
     "name": "stdout",
     "output_type": "stream",
     "text": [
      "i am home .\n",
      "tensor([[  2,  42, 199, 562,   9,   3]], device='cuda:0')\n",
      "[2, 128, 279, 3]\n",
      "<SOS> في المنزل <EOS>\n"
     ]
    }
   ],
   "source": [
    "custom_test = \"i am home.\"\n",
    "preprocessed = preprocess_en(custom_test)\n",
    "print(preprocessed)\n",
    "\n",
    "en_tokens = torch.tensor(en_vocab(preprocessed)).unsqueeze(0).to(device)\n",
    "print(en_tokens)\n",
    "\n",
    "maxtries = 30\n",
    "targets_hat = seq2seq.translate(en_tokens, maxtries)\n",
    "print(targets_hat)\n",
    "print(ar_vocab.tokens_to_text(targets_hat))"
   ]
  },
  {
   "cell_type": "markdown",
   "id": "2ba3cb14",
   "metadata": {
    "papermill": {
     "duration": 3.571224,
     "end_time": "2024-11-12T08:49:18.446037",
     "exception": false,
     "start_time": "2024-11-12T08:49:14.874813",
     "status": "completed"
    },
    "tags": []
   },
   "source": [
    "### Saving"
   ]
  },
  {
   "cell_type": "code",
   "execution_count": 42,
   "id": "8074688b",
   "metadata": {
    "execution": {
     "iopub.execute_input": "2024-11-12T08:49:25.661229Z",
     "iopub.status.busy": "2024-11-12T08:49:25.660841Z",
     "iopub.status.idle": "2024-11-12T08:49:26.183968Z",
     "shell.execute_reply": "2024-11-12T08:49:26.183130Z"
    },
    "papermill": {
     "duration": 4.058176,
     "end_time": "2024-11-12T08:49:26.186348",
     "exception": false,
     "start_time": "2024-11-12T08:49:22.128172",
     "status": "completed"
    },
    "tags": []
   },
   "outputs": [],
   "source": [
    "model_states = {\n",
    "    \"en_vocabulary\": en_vocab.get_vocabulary(),\n",
    "    \"ar_vocabulary\": ar_vocab.get_vocabulary()\n",
    "}\n",
    "\n",
    "torch.save(model_states, f\"{base_dir}/seq2seq_with_attention_states.pt\")\n",
    "\n",
    "## Save Entire Model\n",
    "torch.save(seq2seq, f\"{base_dir}/seq2seq_with_attention.bin\")"
   ]
  }
 ],
 "metadata": {
  "kaggle": {
   "accelerator": "gpu",
   "dataSources": [],
   "dockerImageVersionId": 30787,
   "isGpuEnabled": true,
   "isInternetEnabled": true,
   "language": "python",
   "sourceType": "notebook"
  },
  "kernelspec": {
   "display_name": "Python 3",
   "language": "python",
   "name": "python3"
  },
  "language_info": {
   "codemirror_mode": {
    "name": "ipython",
    "version": 3
   },
   "file_extension": ".py",
   "mimetype": "text/x-python",
   "name": "python",
   "nbconvert_exporter": "python",
   "pygments_lexer": "ipython3",
   "version": "3.10.14"
  },
  "papermill": {
   "default_parameters": {},
   "duration": 4408.717081,
   "end_time": "2024-11-12T08:49:33.423654",
   "environment_variables": {},
   "exception": null,
   "input_path": "__notebook__.ipynb",
   "output_path": "__notebook__.ipynb",
   "parameters": {},
   "start_time": "2024-11-12T07:36:04.706573",
   "version": "2.6.0"
  },
  "widgets": {
   "application/vnd.jupyter.widget-state+json": {
    "state": {
     "0aa29040b2414d67972bd4c727db3868": {
      "model_module": "@jupyter-widgets/controls",
      "model_module_version": "1.5.0",
      "model_name": "ProgressStyleModel",
      "state": {
       "_model_module": "@jupyter-widgets/controls",
       "_model_module_version": "1.5.0",
       "_model_name": "ProgressStyleModel",
       "_view_count": null,
       "_view_module": "@jupyter-widgets/base",
       "_view_module_version": "1.2.0",
       "_view_name": "StyleView",
       "bar_color": null,
       "description_width": ""
      }
     },
     "0bb8b83549e842a89155cbb0315780f0": {
      "model_module": "@jupyter-widgets/controls",
      "model_module_version": "1.5.0",
      "model_name": "HBoxModel",
      "state": {
       "_dom_classes": [],
       "_model_module": "@jupyter-widgets/controls",
       "_model_module_version": "1.5.0",
       "_model_name": "HBoxModel",
       "_view_count": null,
       "_view_module": "@jupyter-widgets/controls",
       "_view_module_version": "1.5.0",
       "_view_name": "HBoxView",
       "box_style": "",
       "children": [
        "IPY_MODEL_b82d04fe534a4af7bb261eb514bd3c8b",
        "IPY_MODEL_8e1992db275043889f85651dcad60f13",
        "IPY_MODEL_68562dede9a946c1a557ae1b397fa378"
       ],
       "layout": "IPY_MODEL_b5c8d274fe894a8684f0b37b0437d997"
      }
     },
     "0ce118d4f29441c39515175b39c4a080": {
      "model_module": "@jupyter-widgets/controls",
      "model_module_version": "1.5.0",
      "model_name": "HTMLModel",
      "state": {
       "_dom_classes": [],
       "_model_module": "@jupyter-widgets/controls",
       "_model_module_version": "1.5.0",
       "_model_name": "HTMLModel",
       "_view_count": null,
       "_view_module": "@jupyter-widgets/controls",
       "_view_module_version": "1.5.0",
       "_view_name": "HTMLView",
       "description": "",
       "description_tooltip": null,
       "layout": "IPY_MODEL_e7ef8b5ae714400ea0c22cdc7c4422fb",
       "placeholder": "​",
       "style": "IPY_MODEL_b149cc43938b4e5fb6f85c228fc9b9bd",
       "value": " 979k/979k [00:00&lt;00:00, 60.5MB/s]"
      }
     },
     "0cf98088d2ea48e49656fd72298bf44a": {
      "model_module": "@jupyter-widgets/base",
      "model_module_version": "1.2.0",
      "model_name": "LayoutModel",
      "state": {
       "_model_module": "@jupyter-widgets/base",
       "_model_module_version": "1.2.0",
       "_model_name": "LayoutModel",
       "_view_count": null,
       "_view_module": "@jupyter-widgets/base",
       "_view_module_version": "1.2.0",
       "_view_name": "LayoutView",
       "align_content": null,
       "align_items": null,
       "align_self": null,
       "border": null,
       "bottom": null,
       "display": null,
       "flex": null,
       "flex_flow": null,
       "grid_area": null,
       "grid_auto_columns": null,
       "grid_auto_flow": null,
       "grid_auto_rows": null,
       "grid_column": null,
       "grid_gap": null,
       "grid_row": null,
       "grid_template_areas": null,
       "grid_template_columns": null,
       "grid_template_rows": null,
       "height": null,
       "justify_content": null,
       "justify_items": null,
       "left": null,
       "margin": null,
       "max_height": null,
       "max_width": null,
       "min_height": null,
       "min_width": null,
       "object_fit": null,
       "object_position": null,
       "order": null,
       "overflow": null,
       "overflow_x": null,
       "overflow_y": null,
       "padding": null,
       "right": null,
       "top": null,
       "visibility": null,
       "width": null
      }
     },
     "0f38018ea3fd47ae8d18cec9fa4fa404": {
      "model_module": "@jupyter-widgets/controls",
      "model_module_version": "1.5.0",
      "model_name": "HTMLModel",
      "state": {
       "_dom_classes": [],
       "_model_module": "@jupyter-widgets/controls",
       "_model_module_version": "1.5.0",
       "_model_name": "HTMLModel",
       "_view_count": null,
       "_view_module": "@jupyter-widgets/controls",
       "_view_module_version": "1.5.0",
       "_view_name": "HTMLView",
       "description": "",
       "description_tooltip": null,
       "layout": "IPY_MODEL_73ba337171cc44cfb58fa452bf326ab4",
       "placeholder": "​",
       "style": "IPY_MODEL_9ab244ea861f490c969f68149fa4bdac",
       "value": " 1000000/1000000 [00:01&lt;00:00, 923515.26 examples/s]"
      }
     },
     "15b2891d6d0c439496f70ad651d1607f": {
      "model_module": "@jupyter-widgets/base",
      "model_module_version": "1.2.0",
      "model_name": "LayoutModel",
      "state": {
       "_model_module": "@jupyter-widgets/base",
       "_model_module_version": "1.2.0",
       "_model_name": "LayoutModel",
       "_view_count": null,
       "_view_module": "@jupyter-widgets/base",
       "_view_module_version": "1.2.0",
       "_view_name": "LayoutView",
       "align_content": null,
       "align_items": null,
       "align_self": null,
       "border": null,
       "bottom": null,
       "display": null,
       "flex": null,
       "flex_flow": null,
       "grid_area": null,
       "grid_auto_columns": null,
       "grid_auto_flow": null,
       "grid_auto_rows": null,
       "grid_column": null,
       "grid_gap": null,
       "grid_row": null,
       "grid_template_areas": null,
       "grid_template_columns": null,
       "grid_template_rows": null,
       "height": null,
       "justify_content": null,
       "justify_items": null,
       "left": null,
       "margin": null,
       "max_height": null,
       "max_width": null,
       "min_height": null,
       "min_width": null,
       "object_fit": null,
       "object_position": null,
       "order": null,
       "overflow": null,
       "overflow_x": null,
       "overflow_y": null,
       "padding": null,
       "right": null,
       "top": null,
       "visibility": null,
       "width": null
      }
     },
     "164f5394f3414da1a2d065325161f1c2": {
      "model_module": "@jupyter-widgets/base",
      "model_module_version": "1.2.0",
      "model_name": "LayoutModel",
      "state": {
       "_model_module": "@jupyter-widgets/base",
       "_model_module_version": "1.2.0",
       "_model_name": "LayoutModel",
       "_view_count": null,
       "_view_module": "@jupyter-widgets/base",
       "_view_module_version": "1.2.0",
       "_view_name": "LayoutView",
       "align_content": null,
       "align_items": null,
       "align_self": null,
       "border": null,
       "bottom": null,
       "display": null,
       "flex": null,
       "flex_flow": null,
       "grid_area": null,
       "grid_auto_columns": null,
       "grid_auto_flow": null,
       "grid_auto_rows": null,
       "grid_column": null,
       "grid_gap": null,
       "grid_row": null,
       "grid_template_areas": null,
       "grid_template_columns": null,
       "grid_template_rows": null,
       "height": null,
       "justify_content": null,
       "justify_items": null,
       "left": null,
       "margin": null,
       "max_height": null,
       "max_width": null,
       "min_height": null,
       "min_width": null,
       "object_fit": null,
       "object_position": null,
       "order": null,
       "overflow": null,
       "overflow_x": null,
       "overflow_y": null,
       "padding": null,
       "right": null,
       "top": null,
       "visibility": null,
       "width": null
      }
     },
     "19750bc6c10a435cb71bdc29f18e5d6d": {
      "model_module": "@jupyter-widgets/controls",
      "model_module_version": "1.5.0",
      "model_name": "HTMLModel",
      "state": {
       "_dom_classes": [],
       "_model_module": "@jupyter-widgets/controls",
       "_model_module_version": "1.5.0",
       "_model_name": "HTMLModel",
       "_view_count": null,
       "_view_module": "@jupyter-widgets/controls",
       "_view_module_version": "1.5.0",
       "_view_name": "HTMLView",
       "description": "",
       "description_tooltip": null,
       "layout": "IPY_MODEL_0cf98088d2ea48e49656fd72298bf44a",
       "placeholder": "​",
       "style": "IPY_MODEL_9c3e1f666b5c4e6e8dc44c4df149e5d5",
       "value": "Generating test split: 100%"
      }
     },
     "1e5ab2e7af1b46949324f224451db307": {
      "model_module": "@jupyter-widgets/controls",
      "model_module_version": "1.5.0",
      "model_name": "ProgressStyleModel",
      "state": {
       "_model_module": "@jupyter-widgets/controls",
       "_model_module_version": "1.5.0",
       "_model_name": "ProgressStyleModel",
       "_view_count": null,
       "_view_module": "@jupyter-widgets/base",
       "_view_module_version": "1.2.0",
       "_view_name": "StyleView",
       "bar_color": null,
       "description_width": ""
      }
     },
     "204bde2e9da54203882f058da8de781d": {
      "model_module": "@jupyter-widgets/controls",
      "model_module_version": "1.5.0",
      "model_name": "ProgressStyleModel",
      "state": {
       "_model_module": "@jupyter-widgets/controls",
       "_model_module_version": "1.5.0",
       "_model_name": "ProgressStyleModel",
       "_view_count": null,
       "_view_module": "@jupyter-widgets/base",
       "_view_module_version": "1.2.0",
       "_view_name": "StyleView",
       "bar_color": null,
       "description_width": ""
      }
     },
     "235f9c16b1d84cffa8af32b48399f04c": {
      "model_module": "@jupyter-widgets/base",
      "model_module_version": "1.2.0",
      "model_name": "LayoutModel",
      "state": {
       "_model_module": "@jupyter-widgets/base",
       "_model_module_version": "1.2.0",
       "_model_name": "LayoutModel",
       "_view_count": null,
       "_view_module": "@jupyter-widgets/base",
       "_view_module_version": "1.2.0",
       "_view_name": "LayoutView",
       "align_content": null,
       "align_items": null,
       "align_self": null,
       "border": null,
       "bottom": null,
       "display": null,
       "flex": null,
       "flex_flow": null,
       "grid_area": null,
       "grid_auto_columns": null,
       "grid_auto_flow": null,
       "grid_auto_rows": null,
       "grid_column": null,
       "grid_gap": null,
       "grid_row": null,
       "grid_template_areas": null,
       "grid_template_columns": null,
       "grid_template_rows": null,
       "height": null,
       "justify_content": null,
       "justify_items": null,
       "left": null,
       "margin": null,
       "max_height": null,
       "max_width": null,
       "min_height": null,
       "min_width": null,
       "object_fit": null,
       "object_position": null,
       "order": null,
       "overflow": null,
       "overflow_x": null,
       "overflow_y": null,
       "padding": null,
       "right": null,
       "top": null,
       "visibility": null,
       "width": null
      }
     },
     "23b44595e0734b7eb70a44a5e3933b4f": {
      "model_module": "@jupyter-widgets/base",
      "model_module_version": "1.2.0",
      "model_name": "LayoutModel",
      "state": {
       "_model_module": "@jupyter-widgets/base",
       "_model_module_version": "1.2.0",
       "_model_name": "LayoutModel",
       "_view_count": null,
       "_view_module": "@jupyter-widgets/base",
       "_view_module_version": "1.2.0",
       "_view_name": "LayoutView",
       "align_content": null,
       "align_items": null,
       "align_self": null,
       "border": null,
       "bottom": null,
       "display": null,
       "flex": null,
       "flex_flow": null,
       "grid_area": null,
       "grid_auto_columns": null,
       "grid_auto_flow": null,
       "grid_auto_rows": null,
       "grid_column": null,
       "grid_gap": null,
       "grid_row": null,
       "grid_template_areas": null,
       "grid_template_columns": null,
       "grid_template_rows": null,
       "height": null,
       "justify_content": null,
       "justify_items": null,
       "left": null,
       "margin": null,
       "max_height": null,
       "max_width": null,
       "min_height": null,
       "min_width": null,
       "object_fit": null,
       "object_position": null,
       "order": null,
       "overflow": null,
       "overflow_x": null,
       "overflow_y": null,
       "padding": null,
       "right": null,
       "top": null,
       "visibility": null,
       "width": null
      }
     },
     "249d9112081d43469e0a49bb916eb28e": {
      "model_module": "@jupyter-widgets/controls",
      "model_module_version": "1.5.0",
      "model_name": "DescriptionStyleModel",
      "state": {
       "_model_module": "@jupyter-widgets/controls",
       "_model_module_version": "1.5.0",
       "_model_name": "DescriptionStyleModel",
       "_view_count": null,
       "_view_module": "@jupyter-widgets/base",
       "_view_module_version": "1.2.0",
       "_view_name": "StyleView",
       "description_width": ""
      }
     },
     "24e2b0f9f28b4ce98e44733391379f47": {
      "model_module": "@jupyter-widgets/controls",
      "model_module_version": "1.5.0",
      "model_name": "DescriptionStyleModel",
      "state": {
       "_model_module": "@jupyter-widgets/controls",
       "_model_module_version": "1.5.0",
       "_model_name": "DescriptionStyleModel",
       "_view_count": null,
       "_view_module": "@jupyter-widgets/base",
       "_view_module_version": "1.2.0",
       "_view_name": "StyleView",
       "description_width": ""
      }
     },
     "2994a5fb23ed424989654c3e6f150c00": {
      "model_module": "@jupyter-widgets/controls",
      "model_module_version": "1.5.0",
      "model_name": "HTMLModel",
      "state": {
       "_dom_classes": [],
       "_model_module": "@jupyter-widgets/controls",
       "_model_module_version": "1.5.0",
       "_model_name": "HTMLModel",
       "_view_count": null,
       "_view_module": "@jupyter-widgets/controls",
       "_view_module_version": "1.5.0",
       "_view_name": "HTMLView",
       "description": "",
       "description_tooltip": null,
       "layout": "IPY_MODEL_c34cc4a50f684abda1a0342d42d580be",
       "placeholder": "​",
       "style": "IPY_MODEL_249d9112081d43469e0a49bb916eb28e",
       "value": " 65.4k/65.4k [00:00&lt;00:00, 4.89MB/s]"
      }
     },
     "30a88e6c2c924c2c92dadc3da4120067": {
      "model_module": "@jupyter-widgets/base",
      "model_module_version": "1.2.0",
      "model_name": "LayoutModel",
      "state": {
       "_model_module": "@jupyter-widgets/base",
       "_model_module_version": "1.2.0",
       "_model_name": "LayoutModel",
       "_view_count": null,
       "_view_module": "@jupyter-widgets/base",
       "_view_module_version": "1.2.0",
       "_view_name": "LayoutView",
       "align_content": null,
       "align_items": null,
       "align_self": null,
       "border": null,
       "bottom": null,
       "display": null,
       "flex": null,
       "flex_flow": null,
       "grid_area": null,
       "grid_auto_columns": null,
       "grid_auto_flow": null,
       "grid_auto_rows": null,
       "grid_column": null,
       "grid_gap": null,
       "grid_row": null,
       "grid_template_areas": null,
       "grid_template_columns": null,
       "grid_template_rows": null,
       "height": null,
       "justify_content": null,
       "justify_items": null,
       "left": null,
       "margin": null,
       "max_height": null,
       "max_width": null,
       "min_height": null,
       "min_width": null,
       "object_fit": null,
       "object_position": null,
       "order": null,
       "overflow": null,
       "overflow_x": null,
       "overflow_y": null,
       "padding": null,
       "right": null,
       "top": null,
       "visibility": null,
       "width": null
      }
     },
     "38d7f6b5efc74402b585dbb20e09c664": {
      "model_module": "@jupyter-widgets/controls",
      "model_module_version": "1.5.0",
      "model_name": "HTMLModel",
      "state": {
       "_dom_classes": [],
       "_model_module": "@jupyter-widgets/controls",
       "_model_module_version": "1.5.0",
       "_model_name": "HTMLModel",
       "_view_count": null,
       "_view_module": "@jupyter-widgets/controls",
       "_view_module_version": "1.5.0",
       "_view_name": "HTMLView",
       "description": "",
       "description_tooltip": null,
       "layout": "IPY_MODEL_d148851c942342d0818216bfa9ce2807",
       "placeholder": "​",
       "style": "IPY_MODEL_a1d282ed1c4442f29c1c5a0ddead6efe",
       "value": "Generating train split: 100%"
      }
     },
     "3941e5ac3b4d475fa01491c69caef4e5": {
      "model_module": "@jupyter-widgets/controls",
      "model_module_version": "1.5.0",
      "model_name": "ProgressStyleModel",
      "state": {
       "_model_module": "@jupyter-widgets/controls",
       "_model_module_version": "1.5.0",
       "_model_name": "ProgressStyleModel",
       "_view_count": null,
       "_view_module": "@jupyter-widgets/base",
       "_view_module_version": "1.2.0",
       "_view_name": "StyleView",
       "bar_color": null,
       "description_width": ""
      }
     },
     "3eeacdd723de456bbba731e5375c9f23": {
      "model_module": "@jupyter-widgets/controls",
      "model_module_version": "1.5.0",
      "model_name": "DescriptionStyleModel",
      "state": {
       "_model_module": "@jupyter-widgets/controls",
       "_model_module_version": "1.5.0",
       "_model_name": "DescriptionStyleModel",
       "_view_count": null,
       "_view_module": "@jupyter-widgets/base",
       "_view_module_version": "1.2.0",
       "_view_name": "StyleView",
       "description_width": ""
      }
     },
     "4205ad9f6e994385817b4a9eda2f1606": {
      "model_module": "@jupyter-widgets/base",
      "model_module_version": "1.2.0",
      "model_name": "LayoutModel",
      "state": {
       "_model_module": "@jupyter-widgets/base",
       "_model_module_version": "1.2.0",
       "_model_name": "LayoutModel",
       "_view_count": null,
       "_view_module": "@jupyter-widgets/base",
       "_view_module_version": "1.2.0",
       "_view_name": "LayoutView",
       "align_content": null,
       "align_items": null,
       "align_self": null,
       "border": null,
       "bottom": null,
       "display": null,
       "flex": null,
       "flex_flow": null,
       "grid_area": null,
       "grid_auto_columns": null,
       "grid_auto_flow": null,
       "grid_auto_rows": null,
       "grid_column": null,
       "grid_gap": null,
       "grid_row": null,
       "grid_template_areas": null,
       "grid_template_columns": null,
       "grid_template_rows": null,
       "height": null,
       "justify_content": null,
       "justify_items": null,
       "left": null,
       "margin": null,
       "max_height": null,
       "max_width": null,
       "min_height": null,
       "min_width": null,
       "object_fit": null,
       "object_position": null,
       "order": null,
       "overflow": null,
       "overflow_x": null,
       "overflow_y": null,
       "padding": null,
       "right": null,
       "top": null,
       "visibility": null,
       "width": null
      }
     },
     "439b8ba46faf45b58a91ad9830c7c7d9": {
      "model_module": "@jupyter-widgets/base",
      "model_module_version": "1.2.0",
      "model_name": "LayoutModel",
      "state": {
       "_model_module": "@jupyter-widgets/base",
       "_model_module_version": "1.2.0",
       "_model_name": "LayoutModel",
       "_view_count": null,
       "_view_module": "@jupyter-widgets/base",
       "_view_module_version": "1.2.0",
       "_view_name": "LayoutView",
       "align_content": null,
       "align_items": null,
       "align_self": null,
       "border": null,
       "bottom": null,
       "display": null,
       "flex": null,
       "flex_flow": null,
       "grid_area": null,
       "grid_auto_columns": null,
       "grid_auto_flow": null,
       "grid_auto_rows": null,
       "grid_column": null,
       "grid_gap": null,
       "grid_row": null,
       "grid_template_areas": null,
       "grid_template_columns": null,
       "grid_template_rows": null,
       "height": null,
       "justify_content": null,
       "justify_items": null,
       "left": null,
       "margin": null,
       "max_height": null,
       "max_width": null,
       "min_height": null,
       "min_width": null,
       "object_fit": null,
       "object_position": null,
       "order": null,
       "overflow": null,
       "overflow_x": null,
       "overflow_y": null,
       "padding": null,
       "right": null,
       "top": null,
       "visibility": null,
       "width": null
      }
     },
     "443e6557e6514bf38116aee7b3d4584e": {
      "model_module": "@jupyter-widgets/base",
      "model_module_version": "1.2.0",
      "model_name": "LayoutModel",
      "state": {
       "_model_module": "@jupyter-widgets/base",
       "_model_module_version": "1.2.0",
       "_model_name": "LayoutModel",
       "_view_count": null,
       "_view_module": "@jupyter-widgets/base",
       "_view_module_version": "1.2.0",
       "_view_name": "LayoutView",
       "align_content": null,
       "align_items": null,
       "align_self": null,
       "border": null,
       "bottom": null,
       "display": null,
       "flex": null,
       "flex_flow": null,
       "grid_area": null,
       "grid_auto_columns": null,
       "grid_auto_flow": null,
       "grid_auto_rows": null,
       "grid_column": null,
       "grid_gap": null,
       "grid_row": null,
       "grid_template_areas": null,
       "grid_template_columns": null,
       "grid_template_rows": null,
       "height": null,
       "justify_content": null,
       "justify_items": null,
       "left": null,
       "margin": null,
       "max_height": null,
       "max_width": null,
       "min_height": null,
       "min_width": null,
       "object_fit": null,
       "object_position": null,
       "order": null,
       "overflow": null,
       "overflow_x": null,
       "overflow_y": null,
       "padding": null,
       "right": null,
       "top": null,
       "visibility": null,
       "width": null
      }
     },
     "44e3aaaffa614b4cb383d88b9bbe8929": {
      "model_module": "@jupyter-widgets/base",
      "model_module_version": "1.2.0",
      "model_name": "LayoutModel",
      "state": {
       "_model_module": "@jupyter-widgets/base",
       "_model_module_version": "1.2.0",
       "_model_name": "LayoutModel",
       "_view_count": null,
       "_view_module": "@jupyter-widgets/base",
       "_view_module_version": "1.2.0",
       "_view_name": "LayoutView",
       "align_content": null,
       "align_items": null,
       "align_self": null,
       "border": null,
       "bottom": null,
       "display": null,
       "flex": null,
       "flex_flow": null,
       "grid_area": null,
       "grid_auto_columns": null,
       "grid_auto_flow": null,
       "grid_auto_rows": null,
       "grid_column": null,
       "grid_gap": null,
       "grid_row": null,
       "grid_template_areas": null,
       "grid_template_columns": null,
       "grid_template_rows": null,
       "height": null,
       "justify_content": null,
       "justify_items": null,
       "left": null,
       "margin": null,
       "max_height": null,
       "max_width": null,
       "min_height": null,
       "min_width": null,
       "object_fit": null,
       "object_position": null,
       "order": null,
       "overflow": null,
       "overflow_x": null,
       "overflow_y": null,
       "padding": null,
       "right": null,
       "top": null,
       "visibility": null,
       "width": null
      }
     },
     "485055346dfb4709b7f4800fc6fd6f87": {
      "model_module": "@jupyter-widgets/controls",
      "model_module_version": "1.5.0",
      "model_name": "DescriptionStyleModel",
      "state": {
       "_model_module": "@jupyter-widgets/controls",
       "_model_module_version": "1.5.0",
       "_model_name": "DescriptionStyleModel",
       "_view_count": null,
       "_view_module": "@jupyter-widgets/base",
       "_view_module_version": "1.2.0",
       "_view_name": "StyleView",
       "description_width": ""
      }
     },
     "4b7e4b97ae1749b2898e780ab363a167": {
      "model_module": "@jupyter-widgets/base",
      "model_module_version": "1.2.0",
      "model_name": "LayoutModel",
      "state": {
       "_model_module": "@jupyter-widgets/base",
       "_model_module_version": "1.2.0",
       "_model_name": "LayoutModel",
       "_view_count": null,
       "_view_module": "@jupyter-widgets/base",
       "_view_module_version": "1.2.0",
       "_view_name": "LayoutView",
       "align_content": null,
       "align_items": null,
       "align_self": null,
       "border": null,
       "bottom": null,
       "display": null,
       "flex": null,
       "flex_flow": null,
       "grid_area": null,
       "grid_auto_columns": null,
       "grid_auto_flow": null,
       "grid_auto_rows": null,
       "grid_column": null,
       "grid_gap": null,
       "grid_row": null,
       "grid_template_areas": null,
       "grid_template_columns": null,
       "grid_template_rows": null,
       "height": null,
       "justify_content": null,
       "justify_items": null,
       "left": null,
       "margin": null,
       "max_height": null,
       "max_width": null,
       "min_height": null,
       "min_width": null,
       "object_fit": null,
       "object_position": null,
       "order": null,
       "overflow": null,
       "overflow_x": null,
       "overflow_y": null,
       "padding": null,
       "right": null,
       "top": null,
       "visibility": null,
       "width": null
      }
     },
     "4ecbecd27ce445ec9ee20b23081b935f": {
      "model_module": "@jupyter-widgets/controls",
      "model_module_version": "1.5.0",
      "model_name": "HTMLModel",
      "state": {
       "_dom_classes": [],
       "_model_module": "@jupyter-widgets/controls",
       "_model_module_version": "1.5.0",
       "_model_name": "HTMLModel",
       "_view_count": null,
       "_view_module": "@jupyter-widgets/controls",
       "_view_module_version": "1.5.0",
       "_view_name": "HTMLView",
       "description": "",
       "description_tooltip": null,
       "layout": "IPY_MODEL_8eeeadc506ed4689a774880644ac5cd9",
       "placeholder": "​",
       "style": "IPY_MODEL_d1f372c179e84c14bcf79246c9d17a7c",
       "value": " 214k/214k [00:00&lt;00:00, 4.03MB/s]"
      }
     },
     "5160f37054e74262b41e5864b5bb1a54": {
      "model_module": "@jupyter-widgets/base",
      "model_module_version": "1.2.0",
      "model_name": "LayoutModel",
      "state": {
       "_model_module": "@jupyter-widgets/base",
       "_model_module_version": "1.2.0",
       "_model_name": "LayoutModel",
       "_view_count": null,
       "_view_module": "@jupyter-widgets/base",
       "_view_module_version": "1.2.0",
       "_view_name": "LayoutView",
       "align_content": null,
       "align_items": null,
       "align_self": null,
       "border": null,
       "bottom": null,
       "display": null,
       "flex": null,
       "flex_flow": null,
       "grid_area": null,
       "grid_auto_columns": null,
       "grid_auto_flow": null,
       "grid_auto_rows": null,
       "grid_column": null,
       "grid_gap": null,
       "grid_row": null,
       "grid_template_areas": null,
       "grid_template_columns": null,
       "grid_template_rows": null,
       "height": null,
       "justify_content": null,
       "justify_items": null,
       "left": null,
       "margin": null,
       "max_height": null,
       "max_width": null,
       "min_height": null,
       "min_width": null,
       "object_fit": null,
       "object_position": null,
       "order": null,
       "overflow": null,
       "overflow_x": null,
       "overflow_y": null,
       "padding": null,
       "right": null,
       "top": null,
       "visibility": null,
       "width": null
      }
     },
     "5173f4b0611e4c56a7d6e3744b51b437": {
      "model_module": "@jupyter-widgets/controls",
      "model_module_version": "1.5.0",
      "model_name": "ProgressStyleModel",
      "state": {
       "_model_module": "@jupyter-widgets/controls",
       "_model_module_version": "1.5.0",
       "_model_name": "ProgressStyleModel",
       "_view_count": null,
       "_view_module": "@jupyter-widgets/base",
       "_view_module_version": "1.2.0",
       "_view_name": "StyleView",
       "bar_color": null,
       "description_width": ""
      }
     },
     "5580418d36ab4606b71c871874cc6215": {
      "model_module": "@jupyter-widgets/base",
      "model_module_version": "1.2.0",
      "model_name": "LayoutModel",
      "state": {
       "_model_module": "@jupyter-widgets/base",
       "_model_module_version": "1.2.0",
       "_model_name": "LayoutModel",
       "_view_count": null,
       "_view_module": "@jupyter-widgets/base",
       "_view_module_version": "1.2.0",
       "_view_name": "LayoutView",
       "align_content": null,
       "align_items": null,
       "align_self": null,
       "border": null,
       "bottom": null,
       "display": null,
       "flex": null,
       "flex_flow": null,
       "grid_area": null,
       "grid_auto_columns": null,
       "grid_auto_flow": null,
       "grid_auto_rows": null,
       "grid_column": null,
       "grid_gap": null,
       "grid_row": null,
       "grid_template_areas": null,
       "grid_template_columns": null,
       "grid_template_rows": null,
       "height": null,
       "justify_content": null,
       "justify_items": null,
       "left": null,
       "margin": null,
       "max_height": null,
       "max_width": null,
       "min_height": null,
       "min_width": null,
       "object_fit": null,
       "object_position": null,
       "order": null,
       "overflow": null,
       "overflow_x": null,
       "overflow_y": null,
       "padding": null,
       "right": null,
       "top": null,
       "visibility": null,
       "width": null
      }
     },
     "5598f7df44064a95baf80310fb42b80b": {
      "model_module": "@jupyter-widgets/controls",
      "model_module_version": "1.5.0",
      "model_name": "HTMLModel",
      "state": {
       "_dom_classes": [],
       "_model_module": "@jupyter-widgets/controls",
       "_model_module_version": "1.5.0",
       "_model_name": "HTMLModel",
       "_view_count": null,
       "_view_module": "@jupyter-widgets/controls",
       "_view_module_version": "1.5.0",
       "_view_name": "HTMLView",
       "description": "",
       "description_tooltip": null,
       "layout": "IPY_MODEL_235f9c16b1d84cffa8af32b48399f04c",
       "placeholder": "​",
       "style": "IPY_MODEL_24e2b0f9f28b4ce98e44733391379f47",
       "value": "README.md: 100%"
      }
     },
     "5743a58ba2554f06a560ce9085214bd0": {
      "model_module": "@jupyter-widgets/base",
      "model_module_version": "1.2.0",
      "model_name": "LayoutModel",
      "state": {
       "_model_module": "@jupyter-widgets/base",
       "_model_module_version": "1.2.0",
       "_model_name": "LayoutModel",
       "_view_count": null,
       "_view_module": "@jupyter-widgets/base",
       "_view_module_version": "1.2.0",
       "_view_name": "LayoutView",
       "align_content": null,
       "align_items": null,
       "align_self": null,
       "border": null,
       "bottom": null,
       "display": null,
       "flex": null,
       "flex_flow": null,
       "grid_area": null,
       "grid_auto_columns": null,
       "grid_auto_flow": null,
       "grid_auto_rows": null,
       "grid_column": null,
       "grid_gap": null,
       "grid_row": null,
       "grid_template_areas": null,
       "grid_template_columns": null,
       "grid_template_rows": null,
       "height": null,
       "justify_content": null,
       "justify_items": null,
       "left": null,
       "margin": null,
       "max_height": null,
       "max_width": null,
       "min_height": null,
       "min_width": null,
       "object_fit": null,
       "object_position": null,
       "order": null,
       "overflow": null,
       "overflow_x": null,
       "overflow_y": null,
       "padding": null,
       "right": null,
       "top": null,
       "visibility": null,
       "width": null
      }
     },
     "58b6232301a6410e81ff6743e2a8856e": {
      "model_module": "@jupyter-widgets/controls",
      "model_module_version": "1.5.0",
      "model_name": "FloatProgressModel",
      "state": {
       "_dom_classes": [],
       "_model_module": "@jupyter-widgets/controls",
       "_model_module_version": "1.5.0",
       "_model_name": "FloatProgressModel",
       "_view_count": null,
       "_view_module": "@jupyter-widgets/controls",
       "_view_module_version": "1.5.0",
       "_view_name": "ProgressView",
       "bar_style": "success",
       "description": "",
       "description_tooltip": null,
       "layout": "IPY_MODEL_9f01df05b706468298049ca4ce81a87f",
       "max": 99293243.0,
       "min": 0.0,
       "orientation": "horizontal",
       "style": "IPY_MODEL_1e5ab2e7af1b46949324f224451db307",
       "value": 99293243.0
      }
     },
     "672d3300b2d8473b86777f2361bb02d9": {
      "model_module": "@jupyter-widgets/controls",
      "model_module_version": "1.5.0",
      "model_name": "FloatProgressModel",
      "state": {
       "_dom_classes": [],
       "_model_module": "@jupyter-widgets/controls",
       "_model_module_version": "1.5.0",
       "_model_name": "FloatProgressModel",
       "_view_count": null,
       "_view_module": "@jupyter-widgets/controls",
       "_view_module_version": "1.5.0",
       "_view_name": "ProgressView",
       "bar_style": "success",
       "description": "",
       "description_tooltip": null,
       "layout": "IPY_MODEL_f65b45935f8044cf9a4c8df0b3641dba",
       "max": 2000.0,
       "min": 0.0,
       "orientation": "horizontal",
       "style": "IPY_MODEL_5173f4b0611e4c56a7d6e3744b51b437",
       "value": 2000.0
      }
     },
     "683f7acd189b414ba1097d05acf10fb4": {
      "model_module": "@jupyter-widgets/base",
      "model_module_version": "1.2.0",
      "model_name": "LayoutModel",
      "state": {
       "_model_module": "@jupyter-widgets/base",
       "_model_module_version": "1.2.0",
       "_model_name": "LayoutModel",
       "_view_count": null,
       "_view_module": "@jupyter-widgets/base",
       "_view_module_version": "1.2.0",
       "_view_name": "LayoutView",
       "align_content": null,
       "align_items": null,
       "align_self": null,
       "border": null,
       "bottom": null,
       "display": null,
       "flex": null,
       "flex_flow": null,
       "grid_area": null,
       "grid_auto_columns": null,
       "grid_auto_flow": null,
       "grid_auto_rows": null,
       "grid_column": null,
       "grid_gap": null,
       "grid_row": null,
       "grid_template_areas": null,
       "grid_template_columns": null,
       "grid_template_rows": null,
       "height": null,
       "justify_content": null,
       "justify_items": null,
       "left": null,
       "margin": null,
       "max_height": null,
       "max_width": null,
       "min_height": null,
       "min_width": null,
       "object_fit": null,
       "object_position": null,
       "order": null,
       "overflow": null,
       "overflow_x": null,
       "overflow_y": null,
       "padding": null,
       "right": null,
       "top": null,
       "visibility": null,
       "width": null
      }
     },
     "68562dede9a946c1a557ae1b397fa378": {
      "model_module": "@jupyter-widgets/controls",
      "model_module_version": "1.5.0",
      "model_name": "HTMLModel",
      "state": {
       "_dom_classes": [],
       "_model_module": "@jupyter-widgets/controls",
       "_model_module_version": "1.5.0",
       "_model_name": "HTMLModel",
       "_view_count": null,
       "_view_module": "@jupyter-widgets/controls",
       "_view_module_version": "1.5.0",
       "_view_name": "HTMLView",
       "description": "",
       "description_tooltip": null,
       "layout": "IPY_MODEL_c50b23200d4f48d09115b55e5d0ca735",
       "placeholder": "​",
       "style": "IPY_MODEL_a9037d92df684096a396b4520c3d8109",
       "value": " 2000/2000 [00:00&lt;00:00, 73152.42 examples/s]"
      }
     },
     "69cb98d734894c48a367e92c964e2ec4": {
      "model_module": "@jupyter-widgets/controls",
      "model_module_version": "1.5.0",
      "model_name": "DescriptionStyleModel",
      "state": {
       "_model_module": "@jupyter-widgets/controls",
       "_model_module_version": "1.5.0",
       "_model_name": "DescriptionStyleModel",
       "_view_count": null,
       "_view_module": "@jupyter-widgets/base",
       "_view_module_version": "1.2.0",
       "_view_name": "StyleView",
       "description_width": ""
      }
     },
     "712b1f0340af4014938459e4835f8107": {
      "model_module": "@jupyter-widgets/controls",
      "model_module_version": "1.5.0",
      "model_name": "FloatProgressModel",
      "state": {
       "_dom_classes": [],
       "_model_module": "@jupyter-widgets/controls",
       "_model_module_version": "1.5.0",
       "_model_name": "FloatProgressModel",
       "_view_count": null,
       "_view_module": "@jupyter-widgets/controls",
       "_view_module_version": "1.5.0",
       "_view_name": "ProgressView",
       "bar_style": "success",
       "description": "",
       "description_tooltip": null,
       "layout": "IPY_MODEL_ed41c10d1c964b13b40ab8c8e3ea9dbf",
       "max": 214340.0,
       "min": 0.0,
       "orientation": "horizontal",
       "style": "IPY_MODEL_a9c46aa699bc442bbfbc1f7af2bc0768",
       "value": 214340.0
      }
     },
     "733c4341fd854a2a8a46ee4ff9aa2e84": {
      "model_module": "@jupyter-widgets/controls",
      "model_module_version": "1.5.0",
      "model_name": "FloatProgressModel",
      "state": {
       "_dom_classes": [],
       "_model_module": "@jupyter-widgets/controls",
       "_model_module_version": "1.5.0",
       "_model_name": "FloatProgressModel",
       "_view_count": null,
       "_view_module": "@jupyter-widgets/controls",
       "_view_module_version": "1.5.0",
       "_view_name": "ProgressView",
       "bar_style": "success",
       "description": "",
       "description_tooltip": null,
       "layout": "IPY_MODEL_164f5394f3414da1a2d065325161f1c2",
       "max": 65391.0,
       "min": 0.0,
       "orientation": "horizontal",
       "style": "IPY_MODEL_df145ff508ad4c92a45ed096208ca135",
       "value": 65391.0
      }
     },
     "73ba337171cc44cfb58fa452bf326ab4": {
      "model_module": "@jupyter-widgets/base",
      "model_module_version": "1.2.0",
      "model_name": "LayoutModel",
      "state": {
       "_model_module": "@jupyter-widgets/base",
       "_model_module_version": "1.2.0",
       "_model_name": "LayoutModel",
       "_view_count": null,
       "_view_module": "@jupyter-widgets/base",
       "_view_module_version": "1.2.0",
       "_view_name": "LayoutView",
       "align_content": null,
       "align_items": null,
       "align_self": null,
       "border": null,
       "bottom": null,
       "display": null,
       "flex": null,
       "flex_flow": null,
       "grid_area": null,
       "grid_auto_columns": null,
       "grid_auto_flow": null,
       "grid_auto_rows": null,
       "grid_column": null,
       "grid_gap": null,
       "grid_row": null,
       "grid_template_areas": null,
       "grid_template_columns": null,
       "grid_template_rows": null,
       "height": null,
       "justify_content": null,
       "justify_items": null,
       "left": null,
       "margin": null,
       "max_height": null,
       "max_width": null,
       "min_height": null,
       "min_width": null,
       "object_fit": null,
       "object_position": null,
       "order": null,
       "overflow": null,
       "overflow_x": null,
       "overflow_y": null,
       "padding": null,
       "right": null,
       "top": null,
       "visibility": null,
       "width": null
      }
     },
     "74778a32af1f4fa8aaec7d623649519e": {
      "model_module": "@jupyter-widgets/base",
      "model_module_version": "1.2.0",
      "model_name": "LayoutModel",
      "state": {
       "_model_module": "@jupyter-widgets/base",
       "_model_module_version": "1.2.0",
       "_model_name": "LayoutModel",
       "_view_count": null,
       "_view_module": "@jupyter-widgets/base",
       "_view_module_version": "1.2.0",
       "_view_name": "LayoutView",
       "align_content": null,
       "align_items": null,
       "align_self": null,
       "border": null,
       "bottom": null,
       "display": null,
       "flex": null,
       "flex_flow": null,
       "grid_area": null,
       "grid_auto_columns": null,
       "grid_auto_flow": null,
       "grid_auto_rows": null,
       "grid_column": null,
       "grid_gap": null,
       "grid_row": null,
       "grid_template_areas": null,
       "grid_template_columns": null,
       "grid_template_rows": null,
       "height": null,
       "justify_content": null,
       "justify_items": null,
       "left": null,
       "margin": null,
       "max_height": null,
       "max_width": null,
       "min_height": null,
       "min_width": null,
       "object_fit": null,
       "object_position": null,
       "order": null,
       "overflow": null,
       "overflow_x": null,
       "overflow_y": null,
       "padding": null,
       "right": null,
       "top": null,
       "visibility": null,
       "width": null
      }
     },
     "7cb426c5c0304d929c165a3b51d4c384": {
      "model_module": "@jupyter-widgets/controls",
      "model_module_version": "1.5.0",
      "model_name": "DescriptionStyleModel",
      "state": {
       "_model_module": "@jupyter-widgets/controls",
       "_model_module_version": "1.5.0",
       "_model_name": "DescriptionStyleModel",
       "_view_count": null,
       "_view_module": "@jupyter-widgets/base",
       "_view_module_version": "1.2.0",
       "_view_name": "StyleView",
       "description_width": ""
      }
     },
     "87d6de731a0d4230843bad95d81927c8": {
      "model_module": "@jupyter-widgets/controls",
      "model_module_version": "1.5.0",
      "model_name": "HTMLModel",
      "state": {
       "_dom_classes": [],
       "_model_module": "@jupyter-widgets/controls",
       "_model_module_version": "1.5.0",
       "_model_name": "HTMLModel",
       "_view_count": null,
       "_view_module": "@jupyter-widgets/controls",
       "_view_module_version": "1.5.0",
       "_view_name": "HTMLView",
       "description": "",
       "description_tooltip": null,
       "layout": "IPY_MODEL_439b8ba46faf45b58a91ad9830c7c7d9",
       "placeholder": "​",
       "style": "IPY_MODEL_e50e4dc8076541c0a3082d3d0f846d85",
       "value": " 2000/2000 [00:00&lt;00:00, 35410.66 examples/s]"
      }
     },
     "8914b1c652854a4196c1a593985d1a01": {
      "model_module": "@jupyter-widgets/controls",
      "model_module_version": "1.5.0",
      "model_name": "HTMLModel",
      "state": {
       "_dom_classes": [],
       "_model_module": "@jupyter-widgets/controls",
       "_model_module_version": "1.5.0",
       "_model_name": "HTMLModel",
       "_view_count": null,
       "_view_module": "@jupyter-widgets/controls",
       "_view_module_version": "1.5.0",
       "_view_name": "HTMLView",
       "description": "",
       "description_tooltip": null,
       "layout": "IPY_MODEL_443e6557e6514bf38116aee7b3d4584e",
       "placeholder": "​",
       "style": "IPY_MODEL_69cb98d734894c48a367e92c964e2ec4",
       "value": "Computing checksums: 100%"
      }
     },
     "8997c1cedb3c4e84bf25dfc7250eeb6f": {
      "model_module": "@jupyter-widgets/controls",
      "model_module_version": "1.5.0",
      "model_name": "HBoxModel",
      "state": {
       "_dom_classes": [],
       "_model_module": "@jupyter-widgets/controls",
       "_model_module_version": "1.5.0",
       "_model_name": "HBoxModel",
       "_view_count": null,
       "_view_module": "@jupyter-widgets/controls",
       "_view_module_version": "1.5.0",
       "_view_name": "HBoxView",
       "box_style": "",
       "children": [
        "IPY_MODEL_dd2fc3d0be874421acfb88b9b2b5f6db",
        "IPY_MODEL_9527701a72df4190bd2b6f0e767dcd8b",
        "IPY_MODEL_0ce118d4f29441c39515175b39c4a080"
       ],
       "layout": "IPY_MODEL_af1815e3aa134c8784322c703e9d6e89"
      }
     },
     "8c06695e9d444431ab053b460b296370": {
      "model_module": "@jupyter-widgets/controls",
      "model_module_version": "1.5.0",
      "model_name": "FloatProgressModel",
      "state": {
       "_dom_classes": [],
       "_model_module": "@jupyter-widgets/controls",
       "_model_module_version": "1.5.0",
       "_model_name": "FloatProgressModel",
       "_view_count": null,
       "_view_module": "@jupyter-widgets/controls",
       "_view_module_version": "1.5.0",
       "_view_name": "ProgressView",
       "bar_style": "success",
       "description": "",
       "description_tooltip": null,
       "layout": "IPY_MODEL_5580418d36ab4606b71c871874cc6215",
       "max": 3.0,
       "min": 0.0,
       "orientation": "horizontal",
       "style": "IPY_MODEL_91bd2dc17db648f89abb0238f54b5821",
       "value": 3.0
      }
     },
     "8e1992db275043889f85651dcad60f13": {
      "model_module": "@jupyter-widgets/controls",
      "model_module_version": "1.5.0",
      "model_name": "FloatProgressModel",
      "state": {
       "_dom_classes": [],
       "_model_module": "@jupyter-widgets/controls",
       "_model_module_version": "1.5.0",
       "_model_name": "FloatProgressModel",
       "_view_count": null,
       "_view_module": "@jupyter-widgets/controls",
       "_view_module_version": "1.5.0",
       "_view_name": "ProgressView",
       "bar_style": "success",
       "description": "",
       "description_tooltip": null,
       "layout": "IPY_MODEL_74778a32af1f4fa8aaec7d623649519e",
       "max": 2000.0,
       "min": 0.0,
       "orientation": "horizontal",
       "style": "IPY_MODEL_204bde2e9da54203882f058da8de781d",
       "value": 2000.0
      }
     },
     "8eeeadc506ed4689a774880644ac5cd9": {
      "model_module": "@jupyter-widgets/base",
      "model_module_version": "1.2.0",
      "model_name": "LayoutModel",
      "state": {
       "_model_module": "@jupyter-widgets/base",
       "_model_module_version": "1.2.0",
       "_model_name": "LayoutModel",
       "_view_count": null,
       "_view_module": "@jupyter-widgets/base",
       "_view_module_version": "1.2.0",
       "_view_name": "LayoutView",
       "align_content": null,
       "align_items": null,
       "align_self": null,
       "border": null,
       "bottom": null,
       "display": null,
       "flex": null,
       "flex_flow": null,
       "grid_area": null,
       "grid_auto_columns": null,
       "grid_auto_flow": null,
       "grid_auto_rows": null,
       "grid_column": null,
       "grid_gap": null,
       "grid_row": null,
       "grid_template_areas": null,
       "grid_template_columns": null,
       "grid_template_rows": null,
       "height": null,
       "justify_content": null,
       "justify_items": null,
       "left": null,
       "margin": null,
       "max_height": null,
       "max_width": null,
       "min_height": null,
       "min_width": null,
       "object_fit": null,
       "object_position": null,
       "order": null,
       "overflow": null,
       "overflow_x": null,
       "overflow_y": null,
       "padding": null,
       "right": null,
       "top": null,
       "visibility": null,
       "width": null
      }
     },
     "912856186df0461f9b5731362833bc6f": {
      "model_module": "@jupyter-widgets/controls",
      "model_module_version": "1.5.0",
      "model_name": "HBoxModel",
      "state": {
       "_dom_classes": [],
       "_model_module": "@jupyter-widgets/controls",
       "_model_module_version": "1.5.0",
       "_model_name": "HBoxModel",
       "_view_count": null,
       "_view_module": "@jupyter-widgets/controls",
       "_view_module_version": "1.5.0",
       "_view_name": "HBoxView",
       "box_style": "",
       "children": [
        "IPY_MODEL_8914b1c652854a4196c1a593985d1a01",
        "IPY_MODEL_8c06695e9d444431ab053b460b296370",
        "IPY_MODEL_b768a4d5b4a1473e8216c839bf2283fe"
       ],
       "layout": "IPY_MODEL_f998555dcae24621a1b3e3a4f2c3d7c6"
      }
     },
     "91bd2dc17db648f89abb0238f54b5821": {
      "model_module": "@jupyter-widgets/controls",
      "model_module_version": "1.5.0",
      "model_name": "ProgressStyleModel",
      "state": {
       "_model_module": "@jupyter-widgets/controls",
       "_model_module_version": "1.5.0",
       "_model_name": "ProgressStyleModel",
       "_view_count": null,
       "_view_module": "@jupyter-widgets/base",
       "_view_module_version": "1.2.0",
       "_view_name": "StyleView",
       "bar_color": null,
       "description_width": ""
      }
     },
     "9527701a72df4190bd2b6f0e767dcd8b": {
      "model_module": "@jupyter-widgets/controls",
      "model_module_version": "1.5.0",
      "model_name": "FloatProgressModel",
      "state": {
       "_dom_classes": [],
       "_model_module": "@jupyter-widgets/controls",
       "_model_module_version": "1.5.0",
       "_model_name": "FloatProgressModel",
       "_view_count": null,
       "_view_module": "@jupyter-widgets/controls",
       "_view_module_version": "1.5.0",
       "_view_name": "ProgressView",
       "bar_style": "success",
       "description": "",
       "description_tooltip": null,
       "layout": "IPY_MODEL_4b7e4b97ae1749b2898e780ab363a167",
       "max": 979231.0,
       "min": 0.0,
       "orientation": "horizontal",
       "style": "IPY_MODEL_0aa29040b2414d67972bd4c727db3868",
       "value": 979231.0
      }
     },
     "9653f143da4041a5807112ea9468a9e6": {
      "model_module": "@jupyter-widgets/controls",
      "model_module_version": "1.5.0",
      "model_name": "HBoxModel",
      "state": {
       "_dom_classes": [],
       "_model_module": "@jupyter-widgets/controls",
       "_model_module_version": "1.5.0",
       "_model_name": "HBoxModel",
       "_view_count": null,
       "_view_module": "@jupyter-widgets/controls",
       "_view_module_version": "1.5.0",
       "_view_name": "HBoxView",
       "box_style": "",
       "children": [
        "IPY_MODEL_5598f7df44064a95baf80310fb42b80b",
        "IPY_MODEL_733c4341fd854a2a8a46ee4ff9aa2e84",
        "IPY_MODEL_2994a5fb23ed424989654c3e6f150c00"
       ],
       "layout": "IPY_MODEL_f800b37da3e54279879db02914e94b43"
      }
     },
     "9ab244ea861f490c969f68149fa4bdac": {
      "model_module": "@jupyter-widgets/controls",
      "model_module_version": "1.5.0",
      "model_name": "DescriptionStyleModel",
      "state": {
       "_model_module": "@jupyter-widgets/controls",
       "_model_module_version": "1.5.0",
       "_model_name": "DescriptionStyleModel",
       "_view_count": null,
       "_view_module": "@jupyter-widgets/base",
       "_view_module_version": "1.2.0",
       "_view_name": "StyleView",
       "description_width": ""
      }
     },
     "9bf6cff2e884407a937762ad40d9a79d": {
      "model_module": "@jupyter-widgets/controls",
      "model_module_version": "1.5.0",
      "model_name": "DescriptionStyleModel",
      "state": {
       "_model_module": "@jupyter-widgets/controls",
       "_model_module_version": "1.5.0",
       "_model_name": "DescriptionStyleModel",
       "_view_count": null,
       "_view_module": "@jupyter-widgets/base",
       "_view_module_version": "1.2.0",
       "_view_name": "StyleView",
       "description_width": ""
      }
     },
     "9c3e1f666b5c4e6e8dc44c4df149e5d5": {
      "model_module": "@jupyter-widgets/controls",
      "model_module_version": "1.5.0",
      "model_name": "DescriptionStyleModel",
      "state": {
       "_model_module": "@jupyter-widgets/controls",
       "_model_module_version": "1.5.0",
       "_model_name": "DescriptionStyleModel",
       "_view_count": null,
       "_view_module": "@jupyter-widgets/base",
       "_view_module_version": "1.2.0",
       "_view_name": "StyleView",
       "description_width": ""
      }
     },
     "9f01df05b706468298049ca4ce81a87f": {
      "model_module": "@jupyter-widgets/base",
      "model_module_version": "1.2.0",
      "model_name": "LayoutModel",
      "state": {
       "_model_module": "@jupyter-widgets/base",
       "_model_module_version": "1.2.0",
       "_model_name": "LayoutModel",
       "_view_count": null,
       "_view_module": "@jupyter-widgets/base",
       "_view_module_version": "1.2.0",
       "_view_name": "LayoutView",
       "align_content": null,
       "align_items": null,
       "align_self": null,
       "border": null,
       "bottom": null,
       "display": null,
       "flex": null,
       "flex_flow": null,
       "grid_area": null,
       "grid_auto_columns": null,
       "grid_auto_flow": null,
       "grid_auto_rows": null,
       "grid_column": null,
       "grid_gap": null,
       "grid_row": null,
       "grid_template_areas": null,
       "grid_template_columns": null,
       "grid_template_rows": null,
       "height": null,
       "justify_content": null,
       "justify_items": null,
       "left": null,
       "margin": null,
       "max_height": null,
       "max_width": null,
       "min_height": null,
       "min_width": null,
       "object_fit": null,
       "object_position": null,
       "order": null,
       "overflow": null,
       "overflow_x": null,
       "overflow_y": null,
       "padding": null,
       "right": null,
       "top": null,
       "visibility": null,
       "width": null
      }
     },
     "a1d282ed1c4442f29c1c5a0ddead6efe": {
      "model_module": "@jupyter-widgets/controls",
      "model_module_version": "1.5.0",
      "model_name": "DescriptionStyleModel",
      "state": {
       "_model_module": "@jupyter-widgets/controls",
       "_model_module_version": "1.5.0",
       "_model_name": "DescriptionStyleModel",
       "_view_count": null,
       "_view_module": "@jupyter-widgets/base",
       "_view_module_version": "1.2.0",
       "_view_name": "StyleView",
       "description_width": ""
      }
     },
     "a355a5e71af04dfaa3d58748d640bba5": {
      "model_module": "@jupyter-widgets/controls",
      "model_module_version": "1.5.0",
      "model_name": "HTMLModel",
      "state": {
       "_dom_classes": [],
       "_model_module": "@jupyter-widgets/controls",
       "_model_module_version": "1.5.0",
       "_model_name": "HTMLModel",
       "_view_count": null,
       "_view_module": "@jupyter-widgets/controls",
       "_view_module_version": "1.5.0",
       "_view_name": "HTMLView",
       "description": "",
       "description_tooltip": null,
       "layout": "IPY_MODEL_30a88e6c2c924c2c92dadc3da4120067",
       "placeholder": "​",
       "style": "IPY_MODEL_7cb426c5c0304d929c165a3b51d4c384",
       "value": "test-00000-of-00001.parquet: 100%"
      }
     },
     "a4e4291094b74ffdb9f00bdeea6ff7c7": {
      "model_module": "@jupyter-widgets/controls",
      "model_module_version": "1.5.0",
      "model_name": "HTMLModel",
      "state": {
       "_dom_classes": [],
       "_model_module": "@jupyter-widgets/controls",
       "_model_module_version": "1.5.0",
       "_model_name": "HTMLModel",
       "_view_count": null,
       "_view_module": "@jupyter-widgets/controls",
       "_view_module_version": "1.5.0",
       "_view_name": "HTMLView",
       "description": "",
       "description_tooltip": null,
       "layout": "IPY_MODEL_23b44595e0734b7eb70a44a5e3933b4f",
       "placeholder": "​",
       "style": "IPY_MODEL_485055346dfb4709b7f4800fc6fd6f87",
       "value": "train-00000-of-00001.parquet: 100%"
      }
     },
     "a7d327e9b8fd4a78b9a9f1e5eba60968": {
      "model_module": "@jupyter-widgets/base",
      "model_module_version": "1.2.0",
      "model_name": "LayoutModel",
      "state": {
       "_model_module": "@jupyter-widgets/base",
       "_model_module_version": "1.2.0",
       "_model_name": "LayoutModel",
       "_view_count": null,
       "_view_module": "@jupyter-widgets/base",
       "_view_module_version": "1.2.0",
       "_view_name": "LayoutView",
       "align_content": null,
       "align_items": null,
       "align_self": null,
       "border": null,
       "bottom": null,
       "display": null,
       "flex": null,
       "flex_flow": null,
       "grid_area": null,
       "grid_auto_columns": null,
       "grid_auto_flow": null,
       "grid_auto_rows": null,
       "grid_column": null,
       "grid_gap": null,
       "grid_row": null,
       "grid_template_areas": null,
       "grid_template_columns": null,
       "grid_template_rows": null,
       "height": null,
       "justify_content": null,
       "justify_items": null,
       "left": null,
       "margin": null,
       "max_height": null,
       "max_width": null,
       "min_height": null,
       "min_width": null,
       "object_fit": null,
       "object_position": null,
       "order": null,
       "overflow": null,
       "overflow_x": null,
       "overflow_y": null,
       "padding": null,
       "right": null,
       "top": null,
       "visibility": null,
       "width": null
      }
     },
     "a9037d92df684096a396b4520c3d8109": {
      "model_module": "@jupyter-widgets/controls",
      "model_module_version": "1.5.0",
      "model_name": "DescriptionStyleModel",
      "state": {
       "_model_module": "@jupyter-widgets/controls",
       "_model_module_version": "1.5.0",
       "_model_name": "DescriptionStyleModel",
       "_view_count": null,
       "_view_module": "@jupyter-widgets/base",
       "_view_module_version": "1.2.0",
       "_view_name": "StyleView",
       "description_width": ""
      }
     },
     "a95f8ee6ad634a61990bdc4ba03c2e13": {
      "model_module": "@jupyter-widgets/base",
      "model_module_version": "1.2.0",
      "model_name": "LayoutModel",
      "state": {
       "_model_module": "@jupyter-widgets/base",
       "_model_module_version": "1.2.0",
       "_model_name": "LayoutModel",
       "_view_count": null,
       "_view_module": "@jupyter-widgets/base",
       "_view_module_version": "1.2.0",
       "_view_name": "LayoutView",
       "align_content": null,
       "align_items": null,
       "align_self": null,
       "border": null,
       "bottom": null,
       "display": null,
       "flex": null,
       "flex_flow": null,
       "grid_area": null,
       "grid_auto_columns": null,
       "grid_auto_flow": null,
       "grid_auto_rows": null,
       "grid_column": null,
       "grid_gap": null,
       "grid_row": null,
       "grid_template_areas": null,
       "grid_template_columns": null,
       "grid_template_rows": null,
       "height": null,
       "justify_content": null,
       "justify_items": null,
       "left": null,
       "margin": null,
       "max_height": null,
       "max_width": null,
       "min_height": null,
       "min_width": null,
       "object_fit": null,
       "object_position": null,
       "order": null,
       "overflow": null,
       "overflow_x": null,
       "overflow_y": null,
       "padding": null,
       "right": null,
       "top": null,
       "visibility": null,
       "width": null
      }
     },
     "a9c46aa699bc442bbfbc1f7af2bc0768": {
      "model_module": "@jupyter-widgets/controls",
      "model_module_version": "1.5.0",
      "model_name": "ProgressStyleModel",
      "state": {
       "_model_module": "@jupyter-widgets/controls",
       "_model_module_version": "1.5.0",
       "_model_name": "ProgressStyleModel",
       "_view_count": null,
       "_view_module": "@jupyter-widgets/base",
       "_view_module_version": "1.2.0",
       "_view_name": "StyleView",
       "bar_color": null,
       "description_width": ""
      }
     },
     "ab347eb6c31f44a6b03170aaadac1ba0": {
      "model_module": "@jupyter-widgets/controls",
      "model_module_version": "1.5.0",
      "model_name": "HTMLModel",
      "state": {
       "_dom_classes": [],
       "_model_module": "@jupyter-widgets/controls",
       "_model_module_version": "1.5.0",
       "_model_name": "HTMLModel",
       "_view_count": null,
       "_view_module": "@jupyter-widgets/controls",
       "_view_module_version": "1.5.0",
       "_view_name": "HTMLView",
       "description": "",
       "description_tooltip": null,
       "layout": "IPY_MODEL_44e3aaaffa614b4cb383d88b9bbe8929",
       "placeholder": "​",
       "style": "IPY_MODEL_f4b3b0d742d1436d809a89ae854e3a3b",
       "value": " 99.3M/99.3M [00:00&lt;00:00, 228MB/s]"
      }
     },
     "af1815e3aa134c8784322c703e9d6e89": {
      "model_module": "@jupyter-widgets/base",
      "model_module_version": "1.2.0",
      "model_name": "LayoutModel",
      "state": {
       "_model_module": "@jupyter-widgets/base",
       "_model_module_version": "1.2.0",
       "_model_name": "LayoutModel",
       "_view_count": null,
       "_view_module": "@jupyter-widgets/base",
       "_view_module_version": "1.2.0",
       "_view_name": "LayoutView",
       "align_content": null,
       "align_items": null,
       "align_self": null,
       "border": null,
       "bottom": null,
       "display": null,
       "flex": null,
       "flex_flow": null,
       "grid_area": null,
       "grid_auto_columns": null,
       "grid_auto_flow": null,
       "grid_auto_rows": null,
       "grid_column": null,
       "grid_gap": null,
       "grid_row": null,
       "grid_template_areas": null,
       "grid_template_columns": null,
       "grid_template_rows": null,
       "height": null,
       "justify_content": null,
       "justify_items": null,
       "left": null,
       "margin": null,
       "max_height": null,
       "max_width": null,
       "min_height": null,
       "min_width": null,
       "object_fit": null,
       "object_position": null,
       "order": null,
       "overflow": null,
       "overflow_x": null,
       "overflow_y": null,
       "padding": null,
       "right": null,
       "top": null,
       "visibility": null,
       "width": null
      }
     },
     "b149cc43938b4e5fb6f85c228fc9b9bd": {
      "model_module": "@jupyter-widgets/controls",
      "model_module_version": "1.5.0",
      "model_name": "DescriptionStyleModel",
      "state": {
       "_model_module": "@jupyter-widgets/controls",
       "_model_module_version": "1.5.0",
       "_model_name": "DescriptionStyleModel",
       "_view_count": null,
       "_view_module": "@jupyter-widgets/base",
       "_view_module_version": "1.2.0",
       "_view_name": "StyleView",
       "description_width": ""
      }
     },
     "b5c8d274fe894a8684f0b37b0437d997": {
      "model_module": "@jupyter-widgets/base",
      "model_module_version": "1.2.0",
      "model_name": "LayoutModel",
      "state": {
       "_model_module": "@jupyter-widgets/base",
       "_model_module_version": "1.2.0",
       "_model_name": "LayoutModel",
       "_view_count": null,
       "_view_module": "@jupyter-widgets/base",
       "_view_module_version": "1.2.0",
       "_view_name": "LayoutView",
       "align_content": null,
       "align_items": null,
       "align_self": null,
       "border": null,
       "bottom": null,
       "display": null,
       "flex": null,
       "flex_flow": null,
       "grid_area": null,
       "grid_auto_columns": null,
       "grid_auto_flow": null,
       "grid_auto_rows": null,
       "grid_column": null,
       "grid_gap": null,
       "grid_row": null,
       "grid_template_areas": null,
       "grid_template_columns": null,
       "grid_template_rows": null,
       "height": null,
       "justify_content": null,
       "justify_items": null,
       "left": null,
       "margin": null,
       "max_height": null,
       "max_width": null,
       "min_height": null,
       "min_width": null,
       "object_fit": null,
       "object_position": null,
       "order": null,
       "overflow": null,
       "overflow_x": null,
       "overflow_y": null,
       "padding": null,
       "right": null,
       "top": null,
       "visibility": null,
       "width": null
      }
     },
     "b768a4d5b4a1473e8216c839bf2283fe": {
      "model_module": "@jupyter-widgets/controls",
      "model_module_version": "1.5.0",
      "model_name": "HTMLModel",
      "state": {
       "_dom_classes": [],
       "_model_module": "@jupyter-widgets/controls",
       "_model_module_version": "1.5.0",
       "_model_name": "HTMLModel",
       "_view_count": null,
       "_view_module": "@jupyter-widgets/controls",
       "_view_module_version": "1.5.0",
       "_view_name": "HTMLView",
       "description": "",
       "description_tooltip": null,
       "layout": "IPY_MODEL_a7d327e9b8fd4a78b9a9f1e5eba60968",
       "placeholder": "​",
       "style": "IPY_MODEL_e4d3b94a5d8048dcaa6a164dd275fc5e",
       "value": " 3/3 [00:00&lt;00:00, 322.51it/s]"
      }
     },
     "b82d04fe534a4af7bb261eb514bd3c8b": {
      "model_module": "@jupyter-widgets/controls",
      "model_module_version": "1.5.0",
      "model_name": "HTMLModel",
      "state": {
       "_dom_classes": [],
       "_model_module": "@jupyter-widgets/controls",
       "_model_module_version": "1.5.0",
       "_model_name": "HTMLModel",
       "_view_count": null,
       "_view_module": "@jupyter-widgets/controls",
       "_view_module_version": "1.5.0",
       "_view_name": "HTMLView",
       "description": "",
       "description_tooltip": null,
       "layout": "IPY_MODEL_4205ad9f6e994385817b4a9eda2f1606",
       "placeholder": "​",
       "style": "IPY_MODEL_3eeacdd723de456bbba731e5375c9f23",
       "value": "Generating validation split: 100%"
      }
     },
     "b8da6d1d62e545f8ba49fe7340be528a": {
      "model_module": "@jupyter-widgets/controls",
      "model_module_version": "1.5.0",
      "model_name": "HBoxModel",
      "state": {
       "_dom_classes": [],
       "_model_module": "@jupyter-widgets/controls",
       "_model_module_version": "1.5.0",
       "_model_name": "HBoxModel",
       "_view_count": null,
       "_view_module": "@jupyter-widgets/controls",
       "_view_module_version": "1.5.0",
       "_view_name": "HBoxView",
       "box_style": "",
       "children": [
        "IPY_MODEL_38d7f6b5efc74402b585dbb20e09c664",
        "IPY_MODEL_d4acfbc47950431faa462f7388ffdfd9",
        "IPY_MODEL_0f38018ea3fd47ae8d18cec9fa4fa404"
       ],
       "layout": "IPY_MODEL_5160f37054e74262b41e5864b5bb1a54"
      }
     },
     "c34cc4a50f684abda1a0342d42d580be": {
      "model_module": "@jupyter-widgets/base",
      "model_module_version": "1.2.0",
      "model_name": "LayoutModel",
      "state": {
       "_model_module": "@jupyter-widgets/base",
       "_model_module_version": "1.2.0",
       "_model_name": "LayoutModel",
       "_view_count": null,
       "_view_module": "@jupyter-widgets/base",
       "_view_module_version": "1.2.0",
       "_view_name": "LayoutView",
       "align_content": null,
       "align_items": null,
       "align_self": null,
       "border": null,
       "bottom": null,
       "display": null,
       "flex": null,
       "flex_flow": null,
       "grid_area": null,
       "grid_auto_columns": null,
       "grid_auto_flow": null,
       "grid_auto_rows": null,
       "grid_column": null,
       "grid_gap": null,
       "grid_row": null,
       "grid_template_areas": null,
       "grid_template_columns": null,
       "grid_template_rows": null,
       "height": null,
       "justify_content": null,
       "justify_items": null,
       "left": null,
       "margin": null,
       "max_height": null,
       "max_width": null,
       "min_height": null,
       "min_width": null,
       "object_fit": null,
       "object_position": null,
       "order": null,
       "overflow": null,
       "overflow_x": null,
       "overflow_y": null,
       "padding": null,
       "right": null,
       "top": null,
       "visibility": null,
       "width": null
      }
     },
     "c50b23200d4f48d09115b55e5d0ca735": {
      "model_module": "@jupyter-widgets/base",
      "model_module_version": "1.2.0",
      "model_name": "LayoutModel",
      "state": {
       "_model_module": "@jupyter-widgets/base",
       "_model_module_version": "1.2.0",
       "_model_name": "LayoutModel",
       "_view_count": null,
       "_view_module": "@jupyter-widgets/base",
       "_view_module_version": "1.2.0",
       "_view_name": "LayoutView",
       "align_content": null,
       "align_items": null,
       "align_self": null,
       "border": null,
       "bottom": null,
       "display": null,
       "flex": null,
       "flex_flow": null,
       "grid_area": null,
       "grid_auto_columns": null,
       "grid_auto_flow": null,
       "grid_auto_rows": null,
       "grid_column": null,
       "grid_gap": null,
       "grid_row": null,
       "grid_template_areas": null,
       "grid_template_columns": null,
       "grid_template_rows": null,
       "height": null,
       "justify_content": null,
       "justify_items": null,
       "left": null,
       "margin": null,
       "max_height": null,
       "max_width": null,
       "min_height": null,
       "min_width": null,
       "object_fit": null,
       "object_position": null,
       "order": null,
       "overflow": null,
       "overflow_x": null,
       "overflow_y": null,
       "padding": null,
       "right": null,
       "top": null,
       "visibility": null,
       "width": null
      }
     },
     "c525bd374abc4cad8d18f4401810cdbe": {
      "model_module": "@jupyter-widgets/controls",
      "model_module_version": "1.5.0",
      "model_name": "HBoxModel",
      "state": {
       "_dom_classes": [],
       "_model_module": "@jupyter-widgets/controls",
       "_model_module_version": "1.5.0",
       "_model_name": "HBoxModel",
       "_view_count": null,
       "_view_module": "@jupyter-widgets/controls",
       "_view_module_version": "1.5.0",
       "_view_name": "HBoxView",
       "box_style": "",
       "children": [
        "IPY_MODEL_19750bc6c10a435cb71bdc29f18e5d6d",
        "IPY_MODEL_672d3300b2d8473b86777f2361bb02d9",
        "IPY_MODEL_87d6de731a0d4230843bad95d81927c8"
       ],
       "layout": "IPY_MODEL_5743a58ba2554f06a560ce9085214bd0"
      }
     },
     "d148851c942342d0818216bfa9ce2807": {
      "model_module": "@jupyter-widgets/base",
      "model_module_version": "1.2.0",
      "model_name": "LayoutModel",
      "state": {
       "_model_module": "@jupyter-widgets/base",
       "_model_module_version": "1.2.0",
       "_model_name": "LayoutModel",
       "_view_count": null,
       "_view_module": "@jupyter-widgets/base",
       "_view_module_version": "1.2.0",
       "_view_name": "LayoutView",
       "align_content": null,
       "align_items": null,
       "align_self": null,
       "border": null,
       "bottom": null,
       "display": null,
       "flex": null,
       "flex_flow": null,
       "grid_area": null,
       "grid_auto_columns": null,
       "grid_auto_flow": null,
       "grid_auto_rows": null,
       "grid_column": null,
       "grid_gap": null,
       "grid_row": null,
       "grid_template_areas": null,
       "grid_template_columns": null,
       "grid_template_rows": null,
       "height": null,
       "justify_content": null,
       "justify_items": null,
       "left": null,
       "margin": null,
       "max_height": null,
       "max_width": null,
       "min_height": null,
       "min_width": null,
       "object_fit": null,
       "object_position": null,
       "order": null,
       "overflow": null,
       "overflow_x": null,
       "overflow_y": null,
       "padding": null,
       "right": null,
       "top": null,
       "visibility": null,
       "width": null
      }
     },
     "d1f372c179e84c14bcf79246c9d17a7c": {
      "model_module": "@jupyter-widgets/controls",
      "model_module_version": "1.5.0",
      "model_name": "DescriptionStyleModel",
      "state": {
       "_model_module": "@jupyter-widgets/controls",
       "_model_module_version": "1.5.0",
       "_model_name": "DescriptionStyleModel",
       "_view_count": null,
       "_view_module": "@jupyter-widgets/base",
       "_view_module_version": "1.2.0",
       "_view_name": "StyleView",
       "description_width": ""
      }
     },
     "d4acfbc47950431faa462f7388ffdfd9": {
      "model_module": "@jupyter-widgets/controls",
      "model_module_version": "1.5.0",
      "model_name": "FloatProgressModel",
      "state": {
       "_dom_classes": [],
       "_model_module": "@jupyter-widgets/controls",
       "_model_module_version": "1.5.0",
       "_model_name": "FloatProgressModel",
       "_view_count": null,
       "_view_module": "@jupyter-widgets/controls",
       "_view_module_version": "1.5.0",
       "_view_name": "ProgressView",
       "bar_style": "success",
       "description": "",
       "description_tooltip": null,
       "layout": "IPY_MODEL_a95f8ee6ad634a61990bdc4ba03c2e13",
       "max": 1000000.0,
       "min": 0.0,
       "orientation": "horizontal",
       "style": "IPY_MODEL_3941e5ac3b4d475fa01491c69caef4e5",
       "value": 1000000.0
      }
     },
     "dd2fc3d0be874421acfb88b9b2b5f6db": {
      "model_module": "@jupyter-widgets/controls",
      "model_module_version": "1.5.0",
      "model_name": "HTMLModel",
      "state": {
       "_dom_classes": [],
       "_model_module": "@jupyter-widgets/controls",
       "_model_module_version": "1.5.0",
       "_model_name": "HTMLModel",
       "_view_count": null,
       "_view_module": "@jupyter-widgets/controls",
       "_view_module_version": "1.5.0",
       "_view_name": "HTMLView",
       "description": "",
       "description_tooltip": null,
       "layout": "IPY_MODEL_15b2891d6d0c439496f70ad651d1607f",
       "placeholder": "​",
       "style": "IPY_MODEL_9bf6cff2e884407a937762ad40d9a79d",
       "value": "validation-00000-of-00001.parquet: 100%"
      }
     },
     "ddeebd7ec18f402abd36f2505c70af0b": {
      "model_module": "@jupyter-widgets/controls",
      "model_module_version": "1.5.0",
      "model_name": "HBoxModel",
      "state": {
       "_dom_classes": [],
       "_model_module": "@jupyter-widgets/controls",
       "_model_module_version": "1.5.0",
       "_model_name": "HBoxModel",
       "_view_count": null,
       "_view_module": "@jupyter-widgets/controls",
       "_view_module_version": "1.5.0",
       "_view_name": "HBoxView",
       "box_style": "",
       "children": [
        "IPY_MODEL_a355a5e71af04dfaa3d58748d640bba5",
        "IPY_MODEL_712b1f0340af4014938459e4835f8107",
        "IPY_MODEL_4ecbecd27ce445ec9ee20b23081b935f"
       ],
       "layout": "IPY_MODEL_ff7ee717a5b344cc87bf762e4aa19895"
      }
     },
     "df145ff508ad4c92a45ed096208ca135": {
      "model_module": "@jupyter-widgets/controls",
      "model_module_version": "1.5.0",
      "model_name": "ProgressStyleModel",
      "state": {
       "_model_module": "@jupyter-widgets/controls",
       "_model_module_version": "1.5.0",
       "_model_name": "ProgressStyleModel",
       "_view_count": null,
       "_view_module": "@jupyter-widgets/base",
       "_view_module_version": "1.2.0",
       "_view_name": "StyleView",
       "bar_color": null,
       "description_width": ""
      }
     },
     "e4d3b94a5d8048dcaa6a164dd275fc5e": {
      "model_module": "@jupyter-widgets/controls",
      "model_module_version": "1.5.0",
      "model_name": "DescriptionStyleModel",
      "state": {
       "_model_module": "@jupyter-widgets/controls",
       "_model_module_version": "1.5.0",
       "_model_name": "DescriptionStyleModel",
       "_view_count": null,
       "_view_module": "@jupyter-widgets/base",
       "_view_module_version": "1.2.0",
       "_view_name": "StyleView",
       "description_width": ""
      }
     },
     "e50e4dc8076541c0a3082d3d0f846d85": {
      "model_module": "@jupyter-widgets/controls",
      "model_module_version": "1.5.0",
      "model_name": "DescriptionStyleModel",
      "state": {
       "_model_module": "@jupyter-widgets/controls",
       "_model_module_version": "1.5.0",
       "_model_name": "DescriptionStyleModel",
       "_view_count": null,
       "_view_module": "@jupyter-widgets/base",
       "_view_module_version": "1.2.0",
       "_view_name": "StyleView",
       "description_width": ""
      }
     },
     "e7ef8b5ae714400ea0c22cdc7c4422fb": {
      "model_module": "@jupyter-widgets/base",
      "model_module_version": "1.2.0",
      "model_name": "LayoutModel",
      "state": {
       "_model_module": "@jupyter-widgets/base",
       "_model_module_version": "1.2.0",
       "_model_name": "LayoutModel",
       "_view_count": null,
       "_view_module": "@jupyter-widgets/base",
       "_view_module_version": "1.2.0",
       "_view_name": "LayoutView",
       "align_content": null,
       "align_items": null,
       "align_self": null,
       "border": null,
       "bottom": null,
       "display": null,
       "flex": null,
       "flex_flow": null,
       "grid_area": null,
       "grid_auto_columns": null,
       "grid_auto_flow": null,
       "grid_auto_rows": null,
       "grid_column": null,
       "grid_gap": null,
       "grid_row": null,
       "grid_template_areas": null,
       "grid_template_columns": null,
       "grid_template_rows": null,
       "height": null,
       "justify_content": null,
       "justify_items": null,
       "left": null,
       "margin": null,
       "max_height": null,
       "max_width": null,
       "min_height": null,
       "min_width": null,
       "object_fit": null,
       "object_position": null,
       "order": null,
       "overflow": null,
       "overflow_x": null,
       "overflow_y": null,
       "padding": null,
       "right": null,
       "top": null,
       "visibility": null,
       "width": null
      }
     },
     "ed41c10d1c964b13b40ab8c8e3ea9dbf": {
      "model_module": "@jupyter-widgets/base",
      "model_module_version": "1.2.0",
      "model_name": "LayoutModel",
      "state": {
       "_model_module": "@jupyter-widgets/base",
       "_model_module_version": "1.2.0",
       "_model_name": "LayoutModel",
       "_view_count": null,
       "_view_module": "@jupyter-widgets/base",
       "_view_module_version": "1.2.0",
       "_view_name": "LayoutView",
       "align_content": null,
       "align_items": null,
       "align_self": null,
       "border": null,
       "bottom": null,
       "display": null,
       "flex": null,
       "flex_flow": null,
       "grid_area": null,
       "grid_auto_columns": null,
       "grid_auto_flow": null,
       "grid_auto_rows": null,
       "grid_column": null,
       "grid_gap": null,
       "grid_row": null,
       "grid_template_areas": null,
       "grid_template_columns": null,
       "grid_template_rows": null,
       "height": null,
       "justify_content": null,
       "justify_items": null,
       "left": null,
       "margin": null,
       "max_height": null,
       "max_width": null,
       "min_height": null,
       "min_width": null,
       "object_fit": null,
       "object_position": null,
       "order": null,
       "overflow": null,
       "overflow_x": null,
       "overflow_y": null,
       "padding": null,
       "right": null,
       "top": null,
       "visibility": null,
       "width": null
      }
     },
     "ee6b790a30ea4b9aab953fa3c52af2d5": {
      "model_module": "@jupyter-widgets/controls",
      "model_module_version": "1.5.0",
      "model_name": "HBoxModel",
      "state": {
       "_dom_classes": [],
       "_model_module": "@jupyter-widgets/controls",
       "_model_module_version": "1.5.0",
       "_model_name": "HBoxModel",
       "_view_count": null,
       "_view_module": "@jupyter-widgets/controls",
       "_view_module_version": "1.5.0",
       "_view_name": "HBoxView",
       "box_style": "",
       "children": [
        "IPY_MODEL_a4e4291094b74ffdb9f00bdeea6ff7c7",
        "IPY_MODEL_58b6232301a6410e81ff6743e2a8856e",
        "IPY_MODEL_ab347eb6c31f44a6b03170aaadac1ba0"
       ],
       "layout": "IPY_MODEL_683f7acd189b414ba1097d05acf10fb4"
      }
     },
     "f4b3b0d742d1436d809a89ae854e3a3b": {
      "model_module": "@jupyter-widgets/controls",
      "model_module_version": "1.5.0",
      "model_name": "DescriptionStyleModel",
      "state": {
       "_model_module": "@jupyter-widgets/controls",
       "_model_module_version": "1.5.0",
       "_model_name": "DescriptionStyleModel",
       "_view_count": null,
       "_view_module": "@jupyter-widgets/base",
       "_view_module_version": "1.2.0",
       "_view_name": "StyleView",
       "description_width": ""
      }
     },
     "f65b45935f8044cf9a4c8df0b3641dba": {
      "model_module": "@jupyter-widgets/base",
      "model_module_version": "1.2.0",
      "model_name": "LayoutModel",
      "state": {
       "_model_module": "@jupyter-widgets/base",
       "_model_module_version": "1.2.0",
       "_model_name": "LayoutModel",
       "_view_count": null,
       "_view_module": "@jupyter-widgets/base",
       "_view_module_version": "1.2.0",
       "_view_name": "LayoutView",
       "align_content": null,
       "align_items": null,
       "align_self": null,
       "border": null,
       "bottom": null,
       "display": null,
       "flex": null,
       "flex_flow": null,
       "grid_area": null,
       "grid_auto_columns": null,
       "grid_auto_flow": null,
       "grid_auto_rows": null,
       "grid_column": null,
       "grid_gap": null,
       "grid_row": null,
       "grid_template_areas": null,
       "grid_template_columns": null,
       "grid_template_rows": null,
       "height": null,
       "justify_content": null,
       "justify_items": null,
       "left": null,
       "margin": null,
       "max_height": null,
       "max_width": null,
       "min_height": null,
       "min_width": null,
       "object_fit": null,
       "object_position": null,
       "order": null,
       "overflow": null,
       "overflow_x": null,
       "overflow_y": null,
       "padding": null,
       "right": null,
       "top": null,
       "visibility": null,
       "width": null
      }
     },
     "f800b37da3e54279879db02914e94b43": {
      "model_module": "@jupyter-widgets/base",
      "model_module_version": "1.2.0",
      "model_name": "LayoutModel",
      "state": {
       "_model_module": "@jupyter-widgets/base",
       "_model_module_version": "1.2.0",
       "_model_name": "LayoutModel",
       "_view_count": null,
       "_view_module": "@jupyter-widgets/base",
       "_view_module_version": "1.2.0",
       "_view_name": "LayoutView",
       "align_content": null,
       "align_items": null,
       "align_self": null,
       "border": null,
       "bottom": null,
       "display": null,
       "flex": null,
       "flex_flow": null,
       "grid_area": null,
       "grid_auto_columns": null,
       "grid_auto_flow": null,
       "grid_auto_rows": null,
       "grid_column": null,
       "grid_gap": null,
       "grid_row": null,
       "grid_template_areas": null,
       "grid_template_columns": null,
       "grid_template_rows": null,
       "height": null,
       "justify_content": null,
       "justify_items": null,
       "left": null,
       "margin": null,
       "max_height": null,
       "max_width": null,
       "min_height": null,
       "min_width": null,
       "object_fit": null,
       "object_position": null,
       "order": null,
       "overflow": null,
       "overflow_x": null,
       "overflow_y": null,
       "padding": null,
       "right": null,
       "top": null,
       "visibility": null,
       "width": null
      }
     },
     "f998555dcae24621a1b3e3a4f2c3d7c6": {
      "model_module": "@jupyter-widgets/base",
      "model_module_version": "1.2.0",
      "model_name": "LayoutModel",
      "state": {
       "_model_module": "@jupyter-widgets/base",
       "_model_module_version": "1.2.0",
       "_model_name": "LayoutModel",
       "_view_count": null,
       "_view_module": "@jupyter-widgets/base",
       "_view_module_version": "1.2.0",
       "_view_name": "LayoutView",
       "align_content": null,
       "align_items": null,
       "align_self": null,
       "border": null,
       "bottom": null,
       "display": null,
       "flex": null,
       "flex_flow": null,
       "grid_area": null,
       "grid_auto_columns": null,
       "grid_auto_flow": null,
       "grid_auto_rows": null,
       "grid_column": null,
       "grid_gap": null,
       "grid_row": null,
       "grid_template_areas": null,
       "grid_template_columns": null,
       "grid_template_rows": null,
       "height": null,
       "justify_content": null,
       "justify_items": null,
       "left": null,
       "margin": null,
       "max_height": null,
       "max_width": null,
       "min_height": null,
       "min_width": null,
       "object_fit": null,
       "object_position": null,
       "order": null,
       "overflow": null,
       "overflow_x": null,
       "overflow_y": null,
       "padding": null,
       "right": null,
       "top": null,
       "visibility": null,
       "width": null
      }
     },
     "ff7ee717a5b344cc87bf762e4aa19895": {
      "model_module": "@jupyter-widgets/base",
      "model_module_version": "1.2.0",
      "model_name": "LayoutModel",
      "state": {
       "_model_module": "@jupyter-widgets/base",
       "_model_module_version": "1.2.0",
       "_model_name": "LayoutModel",
       "_view_count": null,
       "_view_module": "@jupyter-widgets/base",
       "_view_module_version": "1.2.0",
       "_view_name": "LayoutView",
       "align_content": null,
       "align_items": null,
       "align_self": null,
       "border": null,
       "bottom": null,
       "display": null,
       "flex": null,
       "flex_flow": null,
       "grid_area": null,
       "grid_auto_columns": null,
       "grid_auto_flow": null,
       "grid_auto_rows": null,
       "grid_column": null,
       "grid_gap": null,
       "grid_row": null,
       "grid_template_areas": null,
       "grid_template_columns": null,
       "grid_template_rows": null,
       "height": null,
       "justify_content": null,
       "justify_items": null,
       "left": null,
       "margin": null,
       "max_height": null,
       "max_width": null,
       "min_height": null,
       "min_width": null,
       "object_fit": null,
       "object_position": null,
       "order": null,
       "overflow": null,
       "overflow_x": null,
       "overflow_y": null,
       "padding": null,
       "right": null,
       "top": null,
       "visibility": null,
       "width": null
      }
     }
    },
    "version_major": 2,
    "version_minor": 0
   }
  }
 },
 "nbformat": 4,
 "nbformat_minor": 5
}
