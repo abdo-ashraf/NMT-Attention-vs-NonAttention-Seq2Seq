{
 "cells": [
  {
   "cell_type": "code",
   "execution_count": 32,
   "metadata": {},
   "outputs": [],
   "source": [
    "import torch\n",
    "import utils\n",
    "from utils import camel_tokenizer, spacy_tokenizer\n",
    "from Vocabulary import Vocabulary\n",
    "from models import Seq2seq_with_attention, Encoder, Decoder, Attention\n",
    "\n",
    "device = 'cuda' if torch.cuda.is_available() else 'cpu'"
   ]
  },
  {
   "cell_type": "code",
   "execution_count": 33,
   "metadata": {},
   "outputs": [],
   "source": [
    "en_tokenizer = spacy_tokenizer()\n",
    "en_vocab = Vocabulary(en_tokenizer, max_freq=2, unk=True, sos=True, eos=True)\n",
    "ar_tokenizer = camel_tokenizer()\n",
    "ar_vocab = Vocabulary(ar_tokenizer, max_freq=2, unk=True, sos=True, eos=True)\n",
    "\n",
    "vocabs = torch.load('./seq2seq_with_attention_states.pt', weights_only=False, map_location=device)\n",
    "    \n",
    "en_vocab.set_vocabulary(vocabs['en_vocabulary'])\n",
    "ar_vocab.set_vocabulary(vocabs['ar_vocabulary'])\n",
    "\n",
    "seq2seq_with_attention = torch.load(\"./seq2seq_with_attention.bin\", map_location=device, weights_only=False)"
   ]
  },
  {
   "cell_type": "code",
   "execution_count": 34,
   "metadata": {},
   "outputs": [
    {
     "name": "stdout",
     "output_type": "stream",
     "text": [
      "how are you? : كيف حالك ؟\n",
      "he is a good boy. : انه فتاة جيدة\n",
      "she is a good girl. : انها فتاة صالحة\n",
      "who is a better? : من افضل ؟\n"
     ]
    }
   ],
   "source": [
    "# custom_test = 'how are you?'\n",
    "custom_tests = ['how are you?', 'he is a good boy.', 'she is a good girl.', 'who is a better?']\n",
    "for custom_test in custom_tests:\n",
    "    preprocessed = utils.preprocess_en(custom_test)\n",
    "    # print(preprocessed)\n",
    "\n",
    "    en_tokens = torch.tensor(en_vocab(preprocessed)).unsqueeze(0).to(device)\n",
    "    # print(en_tokens)\n",
    "\n",
    "    maxtries = 30\n",
    "    targets_hat = seq2seq_with_attention.translate(en_tokens, maxtries)\n",
    "    # print(targets_hat)\n",
    "    print(custom_test, ':', ar_vocab.tokens_to_text(targets_hat[1:-1]))"
   ]
  }
 ],
 "metadata": {
  "kernelspec": {
   "display_name": "Python 3",
   "language": "python",
   "name": "python3"
  },
  "language_info": {
   "codemirror_mode": {
    "name": "ipython",
    "version": 3
   },
   "file_extension": ".py",
   "mimetype": "text/x-python",
   "name": "python",
   "nbconvert_exporter": "python",
   "pygments_lexer": "ipython3",
   "version": "3.11.9"
  }
 },
 "nbformat": 4,
 "nbformat_minor": 2
}
